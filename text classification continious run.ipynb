{
  "nbformat": 4,
  "nbformat_minor": 0,
  "metadata": {
    "colab": {
      "provenance": [],
      "authorship_tag": "ABX9TyNHzTQMSZ7sCltBV7IGpbhZ",
      "include_colab_link": true
    },
    "kernelspec": {
      "name": "python3",
      "display_name": "Python 3"
    },
    "language_info": {
      "name": "python"
    }
  },
  "cells": [
    {
      "cell_type": "markdown",
      "metadata": {
        "id": "view-in-github",
        "colab_type": "text"
      },
      "source": [
        "<a href=\"https://colab.research.google.com/github/Di9mar/ada4b/blob/main/text%20classification%20continious%20run.ipynb\" target=\"_parent\"><img src=\"https://colab.research.google.com/assets/colab-badge.svg\" alt=\"Open In Colab\"/></a>"
      ]
    },
    {
      "cell_type": "code",
      "source": [
        "# Upgrade pip\n",
        "!pip install --upgrade pip\n",
        "\n",
        "# Install required packages\n",
        "!pip install datasets transformers torch scikit-learn accelerate\n",
        "\n",
        "# If you specifically need the 'torch' extras from transformers\n",
        "!pip install transformers[torch] --upgrade"
      ],
      "metadata": {
        "id": "r3gJbci7thPg"
      },
      "execution_count": null,
      "outputs": []
    },
    {
      "cell_type": "code",
      "source": [
        "# Mount Google Drive\n",
        "from google.colab import drive\n",
        "drive.mount('/content/drive')"
      ],
      "metadata": {
        "id": "aHDEkbm_thRn"
      },
      "execution_count": null,
      "outputs": []
    },
    {
      "cell_type": "code",
      "source": [
        "# Import necessary libraries\n",
        "import os\n",
        "import pandas as pd\n",
        "from transformers import AutoModelForSequenceClassification, AutoTokenizer, Trainer, TrainingArguments\n",
        "from sklearn.model_selection import train_test_split\n",
        "from datasets import load_dataset"
      ],
      "metadata": {
        "id": "LS3BWR12thT7"
      },
      "execution_count": null,
      "outputs": []
    },
    {
      "cell_type": "code",
      "source": [
        "# Define dataset class\n",
        "class TextDataset(torch.utils.data.Dataset):\n",
        "    def __init__(self, texts, labels, tokenizer):\n",
        "        self.encodings = tokenizer(texts, truncation=True, padding=True)\n",
        "        self.labels = labels\n",
        "\n",
        "    def __getitem__(self, idx):\n",
        "        item = {key: torch.tensor(val[idx]) for key, val in self.encodings.items()}\n",
        "        item['labels'] = torch.tensor(self.labels[idx])\n",
        "        return item\n",
        "\n",
        "    def __len__(self):\n",
        "        return len(self.labels)"
      ],
      "metadata": {
        "id": "WXpuoca7thWN"
      },
      "execution_count": null,
      "outputs": []
    },
    {
      "cell_type": "code",
      "source": [
        "# Define paths (these should match the paths from your first script)\n",
        "base_path = \"/content/drive/My Drive/ColabData/MyModel\"\n",
        "checkpoint_path = f\"{base_path}/checkpoints\"\n",
        "trained_model_path = f\"{base_path}/trained_model\"\n",
        "csv_path = f\"{base_path}/wiki_data.csv\""
      ],
      "metadata": {
        "id": "4O3TQdhbthYV"
      },
      "execution_count": null,
      "outputs": []
    },
    {
      "cell_type": "code",
      "source": [
        "# Function to get the last checkpoint, model, and tokenizer if it exists\n",
        "def get_last_checkpoint(output_dir):\n",
        "    # Create the directory if it does not exist\n",
        "    if not os.path.exists(output_dir):\n",
        "        print(f\"The directory {output_dir} does not exist. Creating it now.\")\n",
        "        os.makedirs(output_dir)\n",
        "        return None  # No checkpoints if the directory has just been created\n",
        "\n",
        "    checkpoint_dirs = [os.path.join(output_dir, name) for name in os.listdir(output_dir) if os.path.isdir(os.path.join(output_dir, name)) and 'checkpoint' in name]\n",
        "    if checkpoint_dirs:\n",
        "        return max(checkpoint_dirs, key=os.path.getmtime)  # returns the path of the latest checkpoint\n",
        "    else:\n",
        "        return None\n",
        "\n",
        "# Determine the starting epoch based on the last checkpoint\n",
        "last_checkpoint = get_last_checkpoint(checkpoint_path)\n",
        "\n",
        "# Load the last checkpoint, model, and tokenizer if it exists\n",
        "model = AutoModelForSequenceClassification.from_pretrained(trained_model_path)\n",
        "tokenizer = AutoTokenizer.from_pretrained(trained_model_path)\n",
        "\n",
        "# Print the result\n",
        "if last_checkpoint:\n",
        "    print(f\"Last checkpoint: {last_checkpoint}\")\n",
        "else:\n",
        "    print(\"No checkpoints found.\")"
      ],
      "metadata": {
        "id": "9jZckhwWthaa"
      },
      "execution_count": null,
      "outputs": []
    },
    {
      "cell_type": "code",
      "source": [
        "# Prepare the dataset (assuming the same fraction and preprocessing as the first run)\n",
        "df = pd.read_csv(csv_path)\n",
        "\n",
        "# Use only a fraction of the data for faster training iterations\n",
        "fraction = 0.50  # Adjust this to use, e.g., 50% of the data\n",
        "\n",
        "# Calculate the number of samples to include for each class\n",
        "num_human_samples = int(len(df) * fraction)\n",
        "num_ai_samples = int(len(df) * fraction)\n",
        "\n",
        "# Create a balanced dataset with an equal number of human and AI-generated samples\n",
        "balanced_texts = df['wiki_intro'].tolist()[:num_human_samples] + df['generated_intro'].tolist()[:num_ai_samples]\n",
        "balanced_labels = [0] * num_human_samples + [1] * num_ai_samples\n",
        "\n",
        "# Split the balanced dataset into training and validation sets\n",
        "train_texts, val_texts, train_labels, val_labels = train_test_split(balanced_texts, balanced_labels, test_size=0.1)\n",
        "\n",
        "train_dataset = TextDataset(train_texts, train_labels, tokenizer)\n",
        "val_dataset = TextDataset(val_texts, val_labels, tokenizer)"
      ],
      "metadata": {
        "id": "trx6FXkethc3"
      },
      "execution_count": null,
      "outputs": []
    },
    {
      "cell_type": "code",
      "source": [
        "# Set up Training Arguments and Trainer\n",
        "training_args=TrainingArguments(\n",
        "    output_dir=checkpoint_path,\n",
        "    num_train_epochs=5,  # Adjust as needed\n",
        "    per_device_train_batch_size=16,\n",
        "    gradient_accumulation_steps=2,\n",
        "    evaluation_strategy=\"epoch\",\n",
        "    logging_dir=f\"{base_path}/logs\",\n",
        "    logging_steps=50,\n",
        "    save_strategy=\"epoch\",\n",
        "    load_best_model_at_end=True,\n",
        "    resume_from_checkpoint=last_checkpoint\n",
        ")\n",
        "\n",
        "trainer = Trainer(\n",
        "    model=model,\n",
        "    args=training_args,\n",
        "    train_dataset=train_dataset,\n",
        "    eval_dataset=val_dataset,\n",
        "    resume_from_checkpoint=last_checkpoint\n",
        ")"
      ],
      "metadata": {
        "id": "11rMGyXwthe0"
      },
      "execution_count": null,
      "outputs": []
    },
    {
      "cell_type": "code",
      "source": [
        "# Continue Training\n",
        "trainer.train()\n",
        "\n",
        "# Evaluate and Save Results\n",
        "eval_results = trainer.evaluate()\n",
        "print(f\"Results after continuing training: {eval_results}\")\n",
        "trainer.save_model(trained_model_path)\n",
        "tokenizer.save_pretrained(trained_model_path)"
      ],
      "metadata": {
        "id": "af0KwUxUthhE"
      },
      "execution_count": null,
      "outputs": []
    }
  ]
}