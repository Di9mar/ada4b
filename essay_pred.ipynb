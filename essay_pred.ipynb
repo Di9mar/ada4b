{
 "cells": [
  {
   "cell_type": "code",
   "execution_count": 1,
   "metadata": {},
   "outputs": [
    {
     "name": "stderr",
     "output_type": "stream",
     "text": [
      "/Library/Frameworks/Python.framework/Versions/3.10/lib/python3.10/site-packages/tqdm/auto.py:21: TqdmWarning: IProgress not found. Please update jupyter and ipywidgets. See https://ipywidgets.readthedocs.io/en/stable/user_install.html\n",
      "  from .autonotebook import tqdm as notebook_tqdm\n"
     ]
    }
   ],
   "source": [
    "# Import necessary libraries\n",
    "import os\n",
    "import pandas as pd\n",
    "import torch\n",
    "from transformers import AutoModelForSequenceClassification, AutoTokenizer\n",
    "from sklearn.metrics import accuracy_score, classification_report"
   ]
  },
  {
   "cell_type": "code",
   "execution_count": 2,
   "metadata": {},
   "outputs": [],
   "source": [
    "# Define the paths\n",
    "base_path = \"/Users/home/Library/CloudStorage/GoogleDrive-mdiener.md@gmail.com/My Drive/ColabData/MyModel\"\n",
    "trained_model_path = f\"{base_path}/trained_model\"\n",
    "ai_data_path = f\"{base_path}/ai_essay.csv\"\n",
    "human_data_path = f\"{base_path}/human_essay.csv\""
   ]
  },
  {
   "cell_type": "code",
   "execution_count": 3,
   "metadata": {},
   "outputs": [],
   "source": [
    "# Function to read and preprocess the data\n",
    "def read_data(file_path):\n",
    "    data = pd.read_csv(file_path, delimiter=';')\n",
    "    return data['essays'].tolist()"
   ]
  },
  {
   "cell_type": "code",
   "execution_count": 4,
   "metadata": {},
   "outputs": [],
   "source": [
    "# Function to perform predictions\n",
    "def predict(texts, model, tokenizer):\n",
    "    inputs = tokenizer(texts, padding=True, truncation=True, max_length=512, return_tensors=\"pt\")\n",
    "    with torch.no_grad():\n",
    "        outputs = model(**inputs)\n",
    "    predictions = torch.argmax(outputs.logits, dim=1)\n",
    "    return predictions.cpu().numpy()"
   ]
  },
  {
   "cell_type": "code",
   "execution_count": 5,
   "metadata": {},
   "outputs": [],
   "source": [
    "# Load the model and tokenizer\n",
    "model = AutoModelForSequenceClassification.from_pretrained(trained_model_path)\n",
    "tokenizer = AutoTokenizer.from_pretrained(trained_model_path)\n",
    "\n",
    "# Read and preprocess the AI and human data\n",
    "ai_texts = read_data(ai_data_path)\n",
    "human_texts = read_data(human_data_path)\n",
    "human_texts=human_texts[:400]\n",
    "\n",
    "# Combine the texts and labels (0 for human, 1 for AI)\n",
    "texts = human_texts + ai_texts\n",
    "labels = [0]*len(human_texts) + [1]*len(ai_texts)"
   ]
  },
  {
   "cell_type": "code",
   "execution_count": 6,
   "metadata": {},
   "outputs": [],
   "source": [
    "# Predict the labels for the combined dataset\n",
    "predictions = predict(texts, model, tokenizer)"
   ]
  },
  {
   "cell_type": "code",
   "execution_count": 7,
   "metadata": {},
   "outputs": [
    {
     "name": "stdout",
     "output_type": "stream",
     "text": [
      "Accuracy: 0.8866666666666667\n",
      "              precision    recall  f1-score   support\n",
      "\n",
      "       Human       0.87      0.98      0.92       400\n",
      "          AI       0.95      0.69      0.80       200\n",
      "\n",
      "    accuracy                           0.89       600\n",
      "   macro avg       0.91      0.84      0.86       600\n",
      "weighted avg       0.89      0.89      0.88       600\n",
      "\n"
     ]
    }
   ],
   "source": [
    "# Calculate and print the performance metrics\n",
    "accuracy = accuracy_score(labels, predictions)\n",
    "report = classification_report(labels, predictions, target_names=['Human', 'AI'])\n",
    "print(f\"Accuracy: {accuracy}\")\n",
    "print(report)"
   ]
  },
  {
   "cell_type": "code",
   "execution_count": 8,
   "metadata": {},
   "outputs": [
    {
     "name": "stdout",
     "output_type": "stream",
     "text": [
      "Metrics saved to /Users/home/Library/CloudStorage/GoogleDrive-mdiener.md@gmail.com/My Drive/ColabData/MyModel/prediction_metrics.txt\n"
     ]
    }
   ],
   "source": [
    "# Save the metrics to a file\n",
    "metrics_path = f\"{base_path}/prediction_metrics.txt\"\n",
    "with open(metrics_path, 'w') as f:\n",
    "    f.write(f\"Accuracy: {accuracy}\\n\")\n",
    "    f.write(report)\n",
    "\n",
    "print(f\"Metrics saved to {metrics_path}\")"
   ]
  }
 ],
 "metadata": {
  "kernelspec": {
   "display_name": "Python 3",
   "language": "python",
   "name": "python3"
  },
  "language_info": {
   "codemirror_mode": {
    "name": "ipython",
    "version": 3
   },
   "file_extension": ".py",
   "mimetype": "text/x-python",
   "name": "python",
   "nbconvert_exporter": "python",
   "pygments_lexer": "ipython3",
   "version": "3.10.11"
  }
 },
 "nbformat": 4,
 "nbformat_minor": 2
}
