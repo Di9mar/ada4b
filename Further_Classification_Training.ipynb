{
  "cells": [
    {
      "cell_type": "code",
      "execution_count": 36,
      "metadata": {
        "id": "p62pEt3MrS2E"
      },
      "outputs": [],
      "source": [
        "# Source:\n",
        "# https://huggingface.co/datasets/aadityaubhat/GPT-wiki-intro/viewer/default/train"
      ]
    },
    {
      "cell_type": "code",
      "execution_count": 37,
      "metadata": {
        "id": "yOmT1ILVXddw",
        "outputId": "5111ff16-7908-4389-cf04-d94d46b66518",
        "colab": {
          "base_uri": "https://localhost:8080/"
        }
      },
      "outputs": [
        {
          "output_type": "stream",
          "name": "stdout",
          "text": [
            "Requirement already satisfied: pip in /usr/local/lib/python3.10/dist-packages (23.3.2)\n",
            "\u001b[33mWARNING: Running pip as the 'root' user can result in broken permissions and conflicting behaviour with the system package manager. It is recommended to use a virtual environment instead: https://pip.pypa.io/warnings/venv\u001b[0m\u001b[33m\n",
            "\u001b[0mRequirement already satisfied: datasets in /usr/local/lib/python3.10/dist-packages (2.16.1)\n",
            "Requirement already satisfied: transformers in /usr/local/lib/python3.10/dist-packages (4.36.2)\n",
            "Requirement already satisfied: torch in /usr/local/lib/python3.10/dist-packages (2.1.0+cu121)\n",
            "Requirement already satisfied: scikit-learn in /usr/local/lib/python3.10/dist-packages (1.2.2)\n",
            "Requirement already satisfied: accelerate in /usr/local/lib/python3.10/dist-packages (0.26.1)\n",
            "Requirement already satisfied: filelock in /usr/local/lib/python3.10/dist-packages (from datasets) (3.13.1)\n",
            "Requirement already satisfied: numpy>=1.17 in /usr/local/lib/python3.10/dist-packages (from datasets) (1.23.5)\n",
            "Requirement already satisfied: pyarrow>=8.0.0 in /usr/local/lib/python3.10/dist-packages (from datasets) (10.0.1)\n",
            "Requirement already satisfied: pyarrow-hotfix in /usr/local/lib/python3.10/dist-packages (from datasets) (0.6)\n",
            "Requirement already satisfied: dill<0.3.8,>=0.3.0 in /usr/local/lib/python3.10/dist-packages (from datasets) (0.3.7)\n",
            "Requirement already satisfied: pandas in /usr/local/lib/python3.10/dist-packages (from datasets) (1.5.3)\n",
            "Requirement already satisfied: requests>=2.19.0 in /usr/local/lib/python3.10/dist-packages (from datasets) (2.31.0)\n",
            "Requirement already satisfied: tqdm>=4.62.1 in /usr/local/lib/python3.10/dist-packages (from datasets) (4.66.1)\n",
            "Requirement already satisfied: xxhash in /usr/local/lib/python3.10/dist-packages (from datasets) (3.4.1)\n",
            "Requirement already satisfied: multiprocess in /usr/local/lib/python3.10/dist-packages (from datasets) (0.70.15)\n",
            "Requirement already satisfied: fsspec<=2023.10.0,>=2023.1.0 in /usr/local/lib/python3.10/dist-packages (from fsspec[http]<=2023.10.0,>=2023.1.0->datasets) (2023.6.0)\n",
            "Requirement already satisfied: aiohttp in /usr/local/lib/python3.10/dist-packages (from datasets) (3.9.1)\n",
            "Requirement already satisfied: huggingface-hub>=0.19.4 in /usr/local/lib/python3.10/dist-packages (from datasets) (0.20.2)\n",
            "Requirement already satisfied: packaging in /usr/local/lib/python3.10/dist-packages (from datasets) (23.2)\n",
            "Requirement already satisfied: pyyaml>=5.1 in /usr/local/lib/python3.10/dist-packages (from datasets) (6.0.1)\n",
            "Requirement already satisfied: regex!=2019.12.17 in /usr/local/lib/python3.10/dist-packages (from transformers) (2023.6.3)\n",
            "Requirement already satisfied: tokenizers<0.19,>=0.14 in /usr/local/lib/python3.10/dist-packages (from transformers) (0.15.0)\n",
            "Requirement already satisfied: safetensors>=0.3.1 in /usr/local/lib/python3.10/dist-packages (from transformers) (0.4.1)\n",
            "Requirement already satisfied: typing-extensions in /usr/local/lib/python3.10/dist-packages (from torch) (4.5.0)\n",
            "Requirement already satisfied: sympy in /usr/local/lib/python3.10/dist-packages (from torch) (1.12)\n",
            "Requirement already satisfied: networkx in /usr/local/lib/python3.10/dist-packages (from torch) (3.2.1)\n",
            "Requirement already satisfied: jinja2 in /usr/local/lib/python3.10/dist-packages (from torch) (3.1.3)\n",
            "Requirement already satisfied: triton==2.1.0 in /usr/local/lib/python3.10/dist-packages (from torch) (2.1.0)\n",
            "Requirement already satisfied: scipy>=1.3.2 in /usr/local/lib/python3.10/dist-packages (from scikit-learn) (1.11.4)\n",
            "Requirement already satisfied: joblib>=1.1.1 in /usr/local/lib/python3.10/dist-packages (from scikit-learn) (1.3.2)\n",
            "Requirement already satisfied: threadpoolctl>=2.0.0 in /usr/local/lib/python3.10/dist-packages (from scikit-learn) (3.2.0)\n",
            "Requirement already satisfied: psutil in /usr/local/lib/python3.10/dist-packages (from accelerate) (5.9.5)\n",
            "Requirement already satisfied: attrs>=17.3.0 in /usr/local/lib/python3.10/dist-packages (from aiohttp->datasets) (23.2.0)\n",
            "Requirement already satisfied: multidict<7.0,>=4.5 in /usr/local/lib/python3.10/dist-packages (from aiohttp->datasets) (6.0.4)\n",
            "Requirement already satisfied: yarl<2.0,>=1.0 in /usr/local/lib/python3.10/dist-packages (from aiohttp->datasets) (1.9.4)\n",
            "Requirement already satisfied: frozenlist>=1.1.1 in /usr/local/lib/python3.10/dist-packages (from aiohttp->datasets) (1.4.1)\n",
            "Requirement already satisfied: aiosignal>=1.1.2 in /usr/local/lib/python3.10/dist-packages (from aiohttp->datasets) (1.3.1)\n",
            "Requirement already satisfied: async-timeout<5.0,>=4.0 in /usr/local/lib/python3.10/dist-packages (from aiohttp->datasets) (4.0.3)\n",
            "Requirement already satisfied: charset-normalizer<4,>=2 in /usr/local/lib/python3.10/dist-packages (from requests>=2.19.0->datasets) (3.3.2)\n",
            "Requirement already satisfied: idna<4,>=2.5 in /usr/local/lib/python3.10/dist-packages (from requests>=2.19.0->datasets) (3.6)\n",
            "Requirement already satisfied: urllib3<3,>=1.21.1 in /usr/local/lib/python3.10/dist-packages (from requests>=2.19.0->datasets) (2.0.7)\n",
            "Requirement already satisfied: certifi>=2017.4.17 in /usr/local/lib/python3.10/dist-packages (from requests>=2.19.0->datasets) (2023.11.17)\n",
            "Requirement already satisfied: MarkupSafe>=2.0 in /usr/local/lib/python3.10/dist-packages (from jinja2->torch) (2.1.3)\n",
            "Requirement already satisfied: python-dateutil>=2.8.1 in /usr/local/lib/python3.10/dist-packages (from pandas->datasets) (2.8.2)\n",
            "Requirement already satisfied: pytz>=2020.1 in /usr/local/lib/python3.10/dist-packages (from pandas->datasets) (2023.3.post1)\n",
            "Requirement already satisfied: mpmath>=0.19 in /usr/local/lib/python3.10/dist-packages (from sympy->torch) (1.3.0)\n",
            "Requirement already satisfied: six>=1.5 in /usr/local/lib/python3.10/dist-packages (from python-dateutil>=2.8.1->pandas->datasets) (1.16.0)\n",
            "\u001b[33mWARNING: Running pip as the 'root' user can result in broken permissions and conflicting behaviour with the system package manager. It is recommended to use a virtual environment instead: https://pip.pypa.io/warnings/venv\u001b[0m\u001b[33m\n",
            "\u001b[0mRequirement already satisfied: transformers[torch] in /usr/local/lib/python3.10/dist-packages (4.36.2)\n",
            "Requirement already satisfied: filelock in /usr/local/lib/python3.10/dist-packages (from transformers[torch]) (3.13.1)\n",
            "Requirement already satisfied: huggingface-hub<1.0,>=0.19.3 in /usr/local/lib/python3.10/dist-packages (from transformers[torch]) (0.20.2)\n",
            "Requirement already satisfied: numpy>=1.17 in /usr/local/lib/python3.10/dist-packages (from transformers[torch]) (1.23.5)\n",
            "Requirement already satisfied: packaging>=20.0 in /usr/local/lib/python3.10/dist-packages (from transformers[torch]) (23.2)\n",
            "Requirement already satisfied: pyyaml>=5.1 in /usr/local/lib/python3.10/dist-packages (from transformers[torch]) (6.0.1)\n",
            "Requirement already satisfied: regex!=2019.12.17 in /usr/local/lib/python3.10/dist-packages (from transformers[torch]) (2023.6.3)\n",
            "Requirement already satisfied: requests in /usr/local/lib/python3.10/dist-packages (from transformers[torch]) (2.31.0)\n",
            "Requirement already satisfied: tokenizers<0.19,>=0.14 in /usr/local/lib/python3.10/dist-packages (from transformers[torch]) (0.15.0)\n",
            "Requirement already satisfied: safetensors>=0.3.1 in /usr/local/lib/python3.10/dist-packages (from transformers[torch]) (0.4.1)\n",
            "Requirement already satisfied: tqdm>=4.27 in /usr/local/lib/python3.10/dist-packages (from transformers[torch]) (4.66.1)\n",
            "Requirement already satisfied: torch!=1.12.0,>=1.10 in /usr/local/lib/python3.10/dist-packages (from transformers[torch]) (2.1.0+cu121)\n",
            "Requirement already satisfied: accelerate>=0.21.0 in /usr/local/lib/python3.10/dist-packages (from transformers[torch]) (0.26.1)\n",
            "Requirement already satisfied: psutil in /usr/local/lib/python3.10/dist-packages (from accelerate>=0.21.0->transformers[torch]) (5.9.5)\n",
            "Requirement already satisfied: fsspec>=2023.5.0 in /usr/local/lib/python3.10/dist-packages (from huggingface-hub<1.0,>=0.19.3->transformers[torch]) (2023.6.0)\n",
            "Requirement already satisfied: typing-extensions>=3.7.4.3 in /usr/local/lib/python3.10/dist-packages (from huggingface-hub<1.0,>=0.19.3->transformers[torch]) (4.5.0)\n",
            "Requirement already satisfied: sympy in /usr/local/lib/python3.10/dist-packages (from torch!=1.12.0,>=1.10->transformers[torch]) (1.12)\n",
            "Requirement already satisfied: networkx in /usr/local/lib/python3.10/dist-packages (from torch!=1.12.0,>=1.10->transformers[torch]) (3.2.1)\n",
            "Requirement already satisfied: jinja2 in /usr/local/lib/python3.10/dist-packages (from torch!=1.12.0,>=1.10->transformers[torch]) (3.1.3)\n",
            "Requirement already satisfied: triton==2.1.0 in /usr/local/lib/python3.10/dist-packages (from torch!=1.12.0,>=1.10->transformers[torch]) (2.1.0)\n",
            "Requirement already satisfied: charset-normalizer<4,>=2 in /usr/local/lib/python3.10/dist-packages (from requests->transformers[torch]) (3.3.2)\n",
            "Requirement already satisfied: idna<4,>=2.5 in /usr/local/lib/python3.10/dist-packages (from requests->transformers[torch]) (3.6)\n",
            "Requirement already satisfied: urllib3<3,>=1.21.1 in /usr/local/lib/python3.10/dist-packages (from requests->transformers[torch]) (2.0.7)\n",
            "Requirement already satisfied: certifi>=2017.4.17 in /usr/local/lib/python3.10/dist-packages (from requests->transformers[torch]) (2023.11.17)\n",
            "Requirement already satisfied: MarkupSafe>=2.0 in /usr/local/lib/python3.10/dist-packages (from jinja2->torch!=1.12.0,>=1.10->transformers[torch]) (2.1.3)\n",
            "Requirement already satisfied: mpmath>=0.19 in /usr/local/lib/python3.10/dist-packages (from sympy->torch!=1.12.0,>=1.10->transformers[torch]) (1.3.0)\n",
            "\u001b[33mWARNING: Running pip as the 'root' user can result in broken permissions and conflicting behaviour with the system package manager. It is recommended to use a virtual environment instead: https://pip.pypa.io/warnings/venv\u001b[0m\u001b[33m\n",
            "\u001b[0m"
          ]
        }
      ],
      "source": [
        "# Upgrade pip\n",
        "!pip install --upgrade pip\n",
        "\n",
        "# Install required packages\n",
        "!pip install datasets transformers torch scikit-learn accelerate\n",
        "\n",
        "# If you specifically need the 'torch' extras from transformers\n",
        "!pip install transformers[torch] --upgrade"
      ]
    },
    {
      "cell_type": "code",
      "execution_count": 38,
      "metadata": {
        "id": "JB_v3qlOXtGp"
      },
      "outputs": [],
      "source": [
        "from datasets import load_dataset\n",
        "import pandas as pd\n",
        "import torch\n",
        "from sklearn.model_selection import train_test_split\n",
        "from transformers import AutoModelForSequenceClassification, Trainer, TrainingArguments, AutoTokenizer, DistilBertConfig, TrainerCallback\n",
        "from torch.utils.data import Dataset\n",
        "import os\n",
        "import gc\n",
        "from datetime import datetime\n",
        "import subprocess\n",
        "from sklearn.metrics import accuracy_score, precision_recall_fscore_support, confusion_matrix, roc_auc_score, f1_score\n",
        "import numpy as np\n",
        "import json\n",
        "import shutil"
      ]
    },
    {
      "cell_type": "code",
      "execution_count": 39,
      "metadata": {
        "colab": {
          "base_uri": "https://localhost:8080/"
        },
        "id": "cZArTlG_YD6s",
        "outputId": "837c1178-b8cf-470e-9fd9-078a73df3b98"
      },
      "outputs": [
        {
          "output_type": "stream",
          "name": "stdout",
          "text": [
            "Drive already mounted at /content/drive; to attempt to forcibly remount, call drive.mount(\"/content/drive\", force_remount=True).\n"
          ]
        }
      ],
      "source": [
        "# Import the 'drive' module from the 'google.colab' library\n",
        "# This module allows you to mount your Google Drive in the Colab environment.\n",
        "# Make sure you have the necessary authorization to access your Drive.\n",
        "# If not already installed, you may need to install the 'google-colab' package.\n",
        "from google.colab import drive\n",
        "\n",
        "# Mount Google Drive to '/content/drive'\n",
        "# This will make your Google Drive files accessible from within the Colab environment.\n",
        "# You'll be prompted to authenticate and grant necessary permissions.\n",
        "drive.mount('/content/drive')\n"
      ]
    },
    {
      "cell_type": "code",
      "source": [
        "# Define paths\n",
        "trained_model = \"wiki\"\n",
        "new_model = \"essay\"\n",
        "data_file = \"essay_data\"\n",
        "\n",
        "# These variables store the paths to different directories and files.\n",
        "# They are used for organization and to ensure you have the correct paths when needed.\n",
        "base_path = \"/content/drive/My Drive/TEST\"\n",
        "checkpoint_path = f\"{base_path}/checkpoints\"\n",
        "trained_model_path = f\"{base_path}/{trained_model}\"\n",
        "new_model_path = f\"{base_path}/{new_model}\"\n",
        "logs_path = f\"{base_path}/logs\"\n",
        "csv_path = f\"{base_path}/{data_file}.csv\"\n",
        "subset_paths = [f\"{base_path}/subset_{i}.csv\" for i in range(1, 5)]  # For training subsets and validation set\n",
        "\n",
        "# Create directories if they don't exist\n",
        "# This section checks if the specified directories exist, and if not, it creates them.\n",
        "os.makedirs(base_path, exist_ok=True)\n",
        "os.makedirs(checkpoint_path, exist_ok=True)\n",
        "os.makedirs(trained_model_path, exist_ok=True)\n",
        "os.makedirs(logs_path, exist_ok=True)"
      ],
      "metadata": {
        "id": "PzHmP60uVdik"
      },
      "execution_count": 40,
      "outputs": []
    },
    {
      "cell_type": "code",
      "execution_count": 41,
      "metadata": {
        "id": "WhLTxdT1YEFi",
        "colab": {
          "base_uri": "https://localhost:8080/"
        },
        "outputId": "25c20fd1-b830-43ea-a55c-5adbf222eebf"
      },
      "outputs": [
        {
          "output_type": "stream",
          "name": "stderr",
          "text": [
            "<ipython-input-41-702a95e57bc8>:15: FutureWarning: The default value of regex will change from True to False in a future version.\n",
            "  df['human'] = df['human'].str.replace(r'\\n+', '\\n')\n",
            "<ipython-input-41-702a95e57bc8>:16: FutureWarning: The default value of regex will change from True to False in a future version.\n",
            "  df['ai'] = df['ai'].str.replace(r'\\n+', '\\n')\n"
          ]
        }
      ],
      "source": [
        "# Load new data\n",
        "try:\n",
        "    df = pd.read_csv(csv_path, delimiter=';')\n",
        "    load_success = True\n",
        "except Exception as e:\n",
        "    load_success = False\n",
        "    df = None\n",
        "    error_message = str(e)\n",
        "\n",
        "load_success, df if df is not None else error_message\n",
        "\n",
        "# Check if df is loaded successfully before proceeding\n",
        "if load_success:\n",
        "    # Remove excess newline characters\n",
        "    df['human'] = df['human'].str.replace(r'\\n+', '\\n')\n",
        "    df['ai'] = df['ai'].str.replace(r'\\n+', '\\n')\n",
        "    # Split the main DataFrame into a training set and a validation set\n",
        "    df_subset, val_dataset = train_test_split(df, test_size=0.1, random_state=42)\n",
        "    # Proceed with your code using df_subset and val_dataset\n",
        "else:\n",
        "    # Handle the error (e.g., print the error message or log it)\n",
        "    print(error_message)"
      ]
    },
    {
      "cell_type": "code",
      "execution_count": 42,
      "metadata": {
        "id": "yIil8FW9XjAG"
      },
      "outputs": [],
      "source": [
        "# Define dataset class\n",
        "class TextDataset(torch.utils.data.Dataset):\n",
        "    def __init__(self, texts, labels, tokenizer, max_length=512):\n",
        "        self.texts = texts\n",
        "        self.labels = labels\n",
        "        self.tokenizer = tokenizer\n",
        "        self.max_length = max_length\n",
        "\n",
        "    def __getitem__(self, idx):\n",
        "        text = self.texts[idx]\n",
        "\n",
        "        # Tokenize the text on-the-fly\n",
        "        encoding = self.tokenizer(text, truncation=True, padding='max_length', max_length=self.max_length, return_tensors='pt')\n",
        "\n",
        "        # Convert the encoding to a format suitable for PyTorch\n",
        "        item = {key: val.squeeze(0) for key, val in encoding.items()}  # Squeeze is used to remove batch dimension\n",
        "        item['labels'] = torch.tensor(self.labels[idx])\n",
        "        return item\n",
        "\n",
        "    def __len__(self):\n",
        "        return len(self.labels)\n",
        "\n",
        "    def get_labels(self):\n",
        "        return self.labels"
      ]
    },
    {
      "cell_type": "code",
      "execution_count": 43,
      "metadata": {
        "id": "Gglk9aXdmeRY"
      },
      "outputs": [],
      "source": [
        "# Function to Calculate Metrics\n",
        "def calculate_evaluation_metrics(predictions, true_labels):\n",
        "    accuracy = accuracy_score(true_labels, predictions)\n",
        "    precision, recall, f1, _ = precision_recall_fscore_support(true_labels, predictions, average='binary')\n",
        "    conf_matrix = confusion_matrix(true_labels, predictions)\n",
        "    roc_auc = roc_auc_score(true_labels, predictions)  # For binary classification\n",
        "\n",
        "    return {\n",
        "        'accuracy': accuracy,\n",
        "        'precision': precision,\n",
        "        'recall': recall,\n",
        "        'F1_score': f1,\n",
        "        'confusion_matrix': conf_matrix.tolist(),\n",
        "        'ROC_AUC': roc_auc\n",
        "    }"
      ]
    },
    {
      "cell_type": "code",
      "execution_count": 44,
      "metadata": {
        "id": "q8UWAmlrkX7f"
      },
      "outputs": [],
      "source": [
        "# Define training arguments\n",
        "training_args = TrainingArguments(\n",
        "    output_dir=checkpoint_path,\n",
        "    num_train_epochs=1,                    # Number of training epochs (You may adjust this)\n",
        "    per_device_train_batch_size=16,        # Batch size per GPU (Adjust based on your GPU memory)\n",
        "    gradient_accumulation_steps=2,         # Increase if using a larger effective batch size\n",
        "    evaluation_strategy=\"steps\",           # Evaluate on validation dataset every N steps\n",
        "    eval_steps=50,                         # Number of training steps before each evaluation\n",
        "    logging_dir=logs_path,                 # Directory for logs\n",
        "    logging_steps=50,                      # Log training progress every N steps\n",
        "    save_strategy=\"steps\",                 # Save checkpoints every N epochs\n",
        "    load_best_model_at_end=True,           # Load the best model at the end of training\n",
        ")"
      ]
    },
    {
      "cell_type": "code",
      "execution_count": 45,
      "metadata": {
        "colab": {
          "base_uri": "https://localhost:8080/"
        },
        "id": "xXJYXn1n9Mr2",
        "outputId": "9abf7082-d1d3-4a36-adc3-2a79caecab02"
      },
      "outputs": [
        {
          "output_type": "stream",
          "name": "stdout",
          "text": [
            "Preparing training data.\n",
            "Preparing validation data for final evaluation.\n"
          ]
        }
      ],
      "source": [
        "# Training\n",
        "print(\"Preparing training data.\")\n",
        "\n",
        "# Define a function to prepare training datasets\n",
        "def prepare_training_data(df_subset):\n",
        "    train_labels = [0] * len(df_subset['human']) + [1] * len(df_subset['ai'])\n",
        "    train_texts = df_subset['human'].tolist() + df_subset['ai'].tolist()\n",
        "\n",
        "    # Create a training dataset using the TextDataset class\n",
        "    train_dataset = TextDataset(train_texts, train_labels, tokenizer)\n",
        "    return train_dataset\n",
        "\n",
        "# Evaluation\n",
        "print(\"Preparing validation data for final evaluation.\")\n",
        "\n",
        "# Define a function to prepare validation datasets\n",
        "def prepare_validation_data(val_dataset):\n",
        "    val_labels = [0] * len(val_dataset['human']) + [1] * len(val_dataset['ai'])\n",
        "    val_texts = val_dataset['human'].tolist() + val_dataset['ai'].tolist()\n",
        "\n",
        "    # Create a validation dataset using the TextDataset class\n",
        "    val_dataset = TextDataset(val_texts, val_labels, tokenizer)\n",
        "    return val_dataset"
      ]
    },
    {
      "cell_type": "code",
      "execution_count": 46,
      "metadata": {
        "colab": {
          "base_uri": "https://localhost:8080/"
        },
        "id": "gWZwCNhwXi90",
        "outputId": "5b020df2-df26-4215-cb51-ed49e395ae1e"
      },
      "outputs": [
        {
          "output_type": "stream",
          "name": "stdout",
          "text": [
            "Loading model checkpoint from /content/drive/My Drive/TEST/wiki\n",
            "Model checkpoint loaded successfully.\n",
            "Model Configuration:\n",
            "DistilBertConfig {\n",
            "  \"_name_or_path\": \"/content/drive/My Drive/TEST/wiki\",\n",
            "  \"activation\": \"gelu\",\n",
            "  \"architectures\": [\n",
            "    \"DistilBertForSequenceClassification\"\n",
            "  ],\n",
            "  \"attention_dropout\": 0.1,\n",
            "  \"dim\": 768,\n",
            "  \"dropout\": 0.1,\n",
            "  \"hidden_dim\": 3072,\n",
            "  \"initializer_range\": 0.02,\n",
            "  \"max_position_embeddings\": 512,\n",
            "  \"model_type\": \"distilbert\",\n",
            "  \"n_heads\": 12,\n",
            "  \"n_layers\": 6,\n",
            "  \"pad_token_id\": 0,\n",
            "  \"problem_type\": \"single_label_classification\",\n",
            "  \"qa_dropout\": 0.1,\n",
            "  \"seq_classif_dropout\": 0.2,\n",
            "  \"sinusoidal_pos_embds\": false,\n",
            "  \"tie_weights_\": true,\n",
            "  \"torch_dtype\": \"float32\",\n",
            "  \"transformers_version\": \"4.36.2\",\n",
            "  \"vocab_size\": 30522\n",
            "}\n",
            "\n",
            "Tokenizer Information:\n",
            "DistilBertTokenizerFast(name_or_path='/content/drive/My Drive/TEST/wiki', vocab_size=30522, model_max_length=512, is_fast=True, padding_side='right', truncation_side='right', special_tokens={'unk_token': '[UNK]', 'sep_token': '[SEP]', 'pad_token': '[PAD]', 'cls_token': '[CLS]', 'mask_token': '[MASK]'}, clean_up_tokenization_spaces=True),  added_tokens_decoder={\n",
            "\t0: AddedToken(\"[PAD]\", rstrip=False, lstrip=False, single_word=False, normalized=False, special=True),\n",
            "\t100: AddedToken(\"[UNK]\", rstrip=False, lstrip=False, single_word=False, normalized=False, special=True),\n",
            "\t101: AddedToken(\"[CLS]\", rstrip=False, lstrip=False, single_word=False, normalized=False, special=True),\n",
            "\t102: AddedToken(\"[SEP]\", rstrip=False, lstrip=False, single_word=False, normalized=False, special=True),\n",
            "\t103: AddedToken(\"[MASK]\", rstrip=False, lstrip=False, single_word=False, normalized=False, special=True),\n",
            "}\n"
          ]
        }
      ],
      "source": [
        "# Use a small, fast model for quick training (DistilBERT)\n",
        "\n",
        "# Check if a model checkpoint exists in your drive\n",
        "if os.path.exists(trained_model_path) and os.listdir(trained_model_path):\n",
        "    # If a pre-trained model checkpoint exists in the specified directory, load it\n",
        "    print(f\"Loading model checkpoint from {trained_model_path}\")\n",
        "    model = AutoModelForSequenceClassification.from_pretrained(trained_model_path)\n",
        "    tokenizer = AutoTokenizer.from_pretrained(trained_model_path)\n",
        "    print(\"Model checkpoint loaded successfully.\")\n",
        "else:\n",
        "    # If no pre-trained model checkpoint exists, initialize a new model\n",
        "    model_name = \"distilbert-base-uncased\"\n",
        "    config = DistilBertConfig.from_pretrained(model_name)\n",
        "    config.num_labels = 2  # Assuming you have a binary classification task\n",
        "    model = AutoModelForSequenceClassification.from_pretrained(model_name, config=config)\n",
        "    tokenizer = AutoTokenizer.from_pretrained(model_name)\n",
        "    print(\"Initialized a new model.\")\n",
        "\n",
        "# Print the model configuration for reference\n",
        "print(f\"Model Configuration:\\n{model.config}\")\n",
        "\n",
        "# Print the tokenizer information\n",
        "print(f\"Tokenizer Information:\\n{tokenizer}\")\n",
        "\n",
        "# Initialize the Trainer\n",
        "trainer = Trainer(\n",
        "    model=model,                 # Initially, set with the base model\n",
        "    args=training_args,\n",
        "    eval_dataset=val_dataset,\n",
        "    tokenizer=tokenizer\n",
        ")"
      ]
    },
    {
      "cell_type": "code",
      "execution_count": 47,
      "metadata": {
        "colab": {
          "base_uri": "https://localhost:8080/"
        },
        "id": "JPf8M9yxjIS6",
        "outputId": "fd996b10-d979-444a-810b-37793be312b4"
      },
      "outputs": [
        {
          "output_type": "stream",
          "name": "stdout",
          "text": [
            "Validation dataset size: 2\n"
          ]
        }
      ],
      "source": [
        "# Prepare the subsets for validation\n",
        "# val_dataset = prepare_validation_data(val_dataset)\n",
        "\n",
        "# Splitting 0.5% of data for training and another 0.5% for validation (optional)\n",
        "_, small_val_dataset = train_test_split(val_dataset, test_size=0.005, random_state=43)\n",
        "val_dataset = prepare_validation_data(small_val_dataset)\n",
        "\n",
        "# Verify Dataset Initialization\n",
        "if val_dataset is None or len(val_dataset) == 0:\n",
        "    raise ValueError(\"Validation dataset is empty or not initialized.\")\n",
        "\n",
        "# Debug prints to check datasets\n",
        "print(\"Validation dataset size:\", len(val_dataset))"
      ]
    },
    {
      "cell_type": "code",
      "source": [
        "# Number of manual epochs\n",
        "num_manual_epochs = 5\n",
        "\n",
        "# Checkpoints and metrics array\n",
        "all_checkpoint_paths = []\n",
        "all_metrics_paths = []\n",
        "\n",
        "# Early stopping parameters\n",
        "best_metric = float('inf')  # Infinity (for minimization problem)\n",
        "epochs_no_improve = 0\n",
        "n_epochs_stop = 2  # Number of epochs to wait for improvement before stopping\n",
        "\n",
        "print(f\"Loading and preparing data for {data_file}\")\n",
        "# current_train_dataset = prepare_training_data(df_subset)\n",
        "\n",
        "# Splitting 0.02% of data for training\n",
        "_, small_train_dataset = train_test_split(df_subset, test_size=0.0002, random_state=42)\n",
        "# Prepare the subsets for training and validation\n",
        "current_train_dataset = prepare_training_data(small_train_dataset)\n",
        "\n",
        "# Verify Dataset Initialization\n",
        "if current_train_dataset is None or len(current_train_dataset) == 0:\n",
        "    raise ValueError(\"Training dataset is empty or not initialized.\")\n",
        "\n",
        "# Debug prints to check datasets\n",
        "print(\"Training dataset size:\", len(current_train_dataset))\n",
        "\n",
        "# Initialize the starting_epoch to 0\n",
        "starting_epoch = 0\n",
        "# Determine the starting epoch based on existing checkpoints\n",
        "while True:\n",
        "    starting_epoch += 1\n",
        "    checkpoint_directory = f\"{checkpoint_path}/manual_epoch_{starting_epoch}\"\n",
        "    if not os.path.exists(checkpoint_directory):\n",
        "        break\n",
        "\n",
        "# Print the determined starting epoch\n",
        "print(f\"Starting epoch: {starting_epoch}\")"
      ],
      "metadata": {
        "colab": {
          "base_uri": "https://localhost:8080/"
        },
        "id": "u1y11U_wCysU",
        "outputId": "d444fd6f-c24a-448a-b31e-9dc140e3b6b2"
      },
      "execution_count": 48,
      "outputs": [
        {
          "output_type": "stream",
          "name": "stdout",
          "text": [
            "Loading and preparing data for essay_data\n",
            "Training dataset size: 2\n",
            "Starting epoch: 6\n"
          ]
        }
      ]
    },
    {
      "cell_type": "code",
      "execution_count": 49,
      "metadata": {
        "colab": {
          "base_uri": "https://localhost:8080/"
        },
        "id": "5D24LXCiFZyb",
        "outputId": "9159f1a9-baa3-477b-dd0e-ee279d942032"
      },
      "outputs": [
        {
          "output_type": "stream",
          "name": "stdout",
          "text": [
            "Training process complete.\n"
          ]
        }
      ],
      "source": [
        "# Looping over the manual epochs starting from the determined epoch\n",
        "for epoch in range(starting_epoch - 1, num_manual_epochs):\n",
        "    # Correctly set checkpoint_directory for the current epoch\n",
        "    checkpoint_directory = f\"{checkpoint_path}/manual_epoch_{epoch + 1}\"\n",
        "    print(f\"Starting manual epoch {epoch + 1}/{num_manual_epochs}\")\n",
        "\n",
        "    # Check if the specific checkpoint for this epoch exists\n",
        "    previous_checkpoint_directory = f\"{checkpoint_path}/manual_epoch_{epoch}\"\n",
        "\n",
        "    if os.path.exists(previous_checkpoint_directory) and epoch != 0:\n",
        "        print(f\"Loading checkpoint for epoch {epoch + 1} from {previous_checkpoint_directory}\")\n",
        "        model = AutoModelForSequenceClassification.from_pretrained(previous_checkpoint_directory)\n",
        "        tokenizer = AutoTokenizer.from_pretrained(previous_checkpoint_directory)\n",
        "        trainer.model = model\n",
        "        trainer.tokenizer = tokenizer\n",
        "    else:\n",
        "        # If no specific checkpoint found, use the base DistilBERT model\n",
        "        print(f\"No checkpoint found for epoch {epoch}, continuing with {trained_model} model. Checkpoint directory: {previous_checkpoint_directory}\")\n",
        "        model = AutoModelForSequenceClassification.from_pretrained(trained_model_path)\n",
        "        tokenizer = AutoTokenizer.from_pretrained(trained_model_path)\n",
        "\n",
        "    # Update the Trainer's datasets for the current epoch\n",
        "    trainer.train_dataset = current_train_dataset\n",
        "    trainer.eval_dataset = val_dataset\n",
        "\n",
        "    # Train the model for one epoch on the current dataset\n",
        "    print(\"Starting training...\")\n",
        "    trainer.train()\n",
        "\n",
        "    # After completing the training for the current epoch, save the model\n",
        "    print(f\"Saving model and tokenizer after manual epoch {epoch + 1}, data {data_file}\")\n",
        "    trainer.save_model(checkpoint_directory)\n",
        "    tokenizer.save_pretrained(checkpoint_directory)\n",
        "\n",
        "    # Save metrics for this epoch\n",
        "    metrics_path = f\"{logs_path}/{new_model}_metrics_epoch_{epoch + 1}.json\"\n",
        "    with open(metrics_path, 'w') as file:\n",
        "        json.dump(trainer.state.log_history[ -1], file, indent=4)\n",
        "\n",
        "    # Add the path to the metrics file to the list for later use\n",
        "    all_metrics_paths.append(metrics_path)\n",
        "\n",
        "    # Add the checkpoint directory to the list\n",
        "    all_checkpoint_paths.append(checkpoint_directory)\n",
        "\n",
        "    # validation loss is the metric to monitor\n",
        "    current_metric = trainer.state.log_history[-1]['eval_loss']\n",
        "\n",
        "    # Check for improvement\n",
        "    if current_metric < best_metric:\n",
        "        best_metric = current_metric\n",
        "        epochs_no_improve = 0\n",
        "    else:\n",
        "        epochs_no_improve += 1\n",
        "\n",
        "    # Early stopping check\n",
        "    if epochs_no_improve >= n_epochs_stop:\n",
        "        print(f\"Early stopping triggered after {epoch + 1} epochs.\")\n",
        "        break\n",
        "\n",
        "    # Free up memory\n",
        "    print(\"Freeing up memory.\")\n",
        "    gc.collect()\n",
        "    torch.cuda.empty_cache()\n",
        "\n",
        "print(\"Training process complete.\")"
      ]
    },
    {
      "cell_type": "code",
      "execution_count": 50,
      "metadata": {
        "id": "QJ8QXG9OpQ5W",
        "colab": {
          "base_uri": "https://localhost:8080/"
        },
        "outputId": "23541de2-c2f0-49e2-c14d-ac86ddd10e55"
      },
      "outputs": [
        {
          "output_type": "stream",
          "name": "stdout",
          "text": [
            "Saving final model and tokenizer to /content/drive/My Drive/TEST/essay\n",
            "Final model and checkpoint directories saved. Intermediate checkpoints deleted.\n",
            "Deleted entire checkpoint directory: /content/drive/My Drive/TEST/checkpoints\n"
          ]
        }
      ],
      "source": [
        "# After completing all epochs, save the final model state\n",
        "final_checkpoint_directory = f\"{new_model_path}\"\n",
        "print(f\"Saving final model and tokenizer to {final_checkpoint_directory}\")\n",
        "\n",
        "# Save the final model and tokenizer\n",
        "trainer.save_model(final_checkpoint_directory)\n",
        "tokenizer.save_pretrained(final_checkpoint_directory)\n",
        "\n",
        "print(\"Final model and checkpoint directories saved. Intermediate checkpoints deleted.\")\n",
        "\n",
        "if os.path.exists(checkpoint_path):\n",
        "    shutil.rmtree(checkpoint_path)\n",
        "    print(f\"Deleted entire checkpoint directory: {checkpoint_path}\")\n",
        "os.makedirs(checkpoint_path, exist_ok=True)"
      ]
    },
    {
      "cell_type": "code",
      "execution_count": 182,
      "metadata": {
        "id": "tluIA7j4bZhb"
      },
      "outputs": [],
      "source": [
        "# Function to initialize the Trainer for evaluation\n",
        "def initialize_trainer_for_evaluation(model, training_args, eval_dataset):\n",
        "    \"\"\"\n",
        "    Initialize a Trainer object for model evaluation.\n",
        "\n",
        "    Args:\n",
        "        model (PreTrainedModel): The pre-trained model to evaluate.\n",
        "        training_args (TrainingArguments): Training arguments for evaluation.\n",
        "        eval_dataset (Dataset): The evaluation dataset.\n",
        "\n",
        "    Returns:\n",
        "        Trainer: A Trainer object for evaluation.\n",
        "    \"\"\"\n",
        "    return Trainer(\n",
        "        model=model,\n",
        "        args=training_args,\n",
        "        eval_dataset=eval_dataset,\n",
        "    )\n",
        "\n",
        "# Function to get the next available file name\n",
        "def get_next_file_name(file_prefix, model_name):\n",
        "    \"\"\"\n",
        "    Get the next available file name by appending an index.\n",
        "\n",
        "    Args:\n",
        "        file_prefix (str): The prefix for the file name.\n",
        "\n",
        "    Returns:\n",
        "        str: The next available file name.\n",
        "    \"\"\"\n",
        "    index = 0\n",
        "    while True:\n",
        "        file_name = f\"{file_prefix}_{model_name}_{index}.json\"\n",
        "        if not os.path.exists(file_name):\n",
        "            return file_name, index\n",
        "        index += 1\n",
        "\n"
      ]
    },
    {
      "cell_type": "code",
      "execution_count": 183,
      "metadata": {
        "id": "gSCuFEkN5Bw4",
        "colab": {
          "base_uri": "https://localhost:8080/",
          "height": 208
        },
        "outputId": "552bfcb1-58ba-44a5-ac4a-ace397117543"
      },
      "outputs": [
        {
          "output_type": "stream",
          "name": "stdout",
          "text": [
            "Loading final model for evaluation from: /content/drive/My Drive/TEST/essay\n",
            "Predicting on the validation dataset.\n"
          ]
        },
        {
          "output_type": "display_data",
          "data": {
            "text/plain": [
              "<IPython.core.display.HTML object>"
            ],
            "text/html": []
          },
          "metadata": {}
        },
        {
          "output_type": "stream",
          "name": "stdout",
          "text": [
            "Final Evaluation Metrics Saved as /content/drive/My Drive/TEST/logs/final_evaluation_metrics_essay_6.json\n",
            "Final Evaluation Metrics:\n",
            "Accuracy: 0.5\n",
            "Precision: 0.5\n",
            "Recall: 1.0\n",
            "F1 Score: 0.6666666666666666\n",
            "Confusion Matrix:\n",
            "[[0, 1], [0, 1]]\n",
            "ROC AUC: 0.5\n"
          ]
        }
      ],
      "source": [
        "print(\"Loading final model for evaluation from:\", final_checkpoint_directory)\n",
        "model = AutoModelForSequenceClassification.from_pretrained(final_checkpoint_directory)\n",
        "tokenizer = AutoTokenizer.from_pretrained(final_checkpoint_directory)\n",
        "\n",
        "# Initialize the Trainer for final evaluation with the validation dataset\n",
        "eval_trainer = initialize_trainer_for_evaluation(model, training_args, val_dataset)\n",
        "\n",
        "# Predict on the validation dataset\n",
        "print(\"Predicting on the validation dataset.\")\n",
        "predictions = eval_trainer.predict(val_dataset)\n",
        "\n",
        "# Extract the predicted labels from the predictions\n",
        "final_predictions = np.argmax(predictions.predictions, axis=1)\n",
        "final_true_labels = val_dataset.get_labels()  # Get the true labels from the validation dataset\n",
        "\n",
        "# Calculate final evaluation metrics\n",
        "final_metrics = calculate_evaluation_metrics(final_predictions, final_true_labels)\n",
        "\n",
        "# Save final metrics with a sequentially numbered file name\n",
        "filepath_index = get_next_file_name(f\"{logs_path}/final_evaluation_metrics\", new_model)\n",
        "final_metrics_path = filepath_index[0]\n",
        "index = filepath_index[1]\n",
        "try:\n",
        "    with open(final_metrics_path, 'w') as file:\n",
        "        json.dump(final_metrics, file, indent=4)\n",
        "        print(f\"Final Evaluation Metrics Saved as {final_metrics_path}\")\n",
        "except Exception as e:\n",
        "    print(f\"An error occurred while saving the final metrics: {str(e)}\")\n",
        "\n",
        "# Add the path to the final evaluation metrics file to the list for later use\n",
        "all_metrics_paths.append(final_metrics_path)\n",
        "\n",
        "# Print the final evaluation metrics\n",
        "print(\"Final Evaluation Metrics:\")\n",
        "print(\"Accuracy:\", final_metrics['accuracy'])\n",
        "print(\"Precision:\", final_metrics['precision'])\n",
        "print(\"Recall:\", final_metrics['recall'])\n",
        "print(\"F1 Score:\", final_metrics['F1_score'])\n",
        "print(\"Confusion Matrix:\")\n",
        "print(final_metrics['confusion_matrix'])\n",
        "print(\"ROC AUC:\", final_metrics['ROC_AUC'])"
      ]
    },
    {
      "cell_type": "code",
      "source": [
        "def load_metrics(file_path):\n",
        "    \"\"\"Loads metrics from a given file.\"\"\"\n",
        "    with open(file_path, 'r') as file:\n",
        "        return json.load(file)\n",
        "\n",
        "def compare_models_metrics(model1_metrics_file, model2_metrics_file):\n",
        "    \"\"\"Compares metrics between two models.\"\"\"\n",
        "    if os.path.exists(model1_metrics_file) and os.path.exists(model2_metrics_file):\n",
        "        model1_metrics = load_metrics(model1_metrics_file)\n",
        "        model2_metrics = load_metrics(model2_metrics_file)\n",
        "\n",
        "        # Comparison logic (example for accuracy)\n",
        "        accuracy_change = model1_metrics['accuracy'] - model2_metrics['accuracy']\n",
        "        return {\n",
        "            \"accuracy_change\": accuracy_change,\n",
        "            # ... other metrics comparisons ...\n",
        "        }\n",
        "    else:\n",
        "        return None\n",
        "\n",
        "# Function to get the next available file name\n",
        "def get_file_name(file_prefix, model_name):\n",
        "    \"\"\"\n",
        "    Get the next available file name by appending an index.\n",
        "\n",
        "    Args:\n",
        "        file_prefix (str): The prefix for the file name.\n",
        "\n",
        "    Returns:\n",
        "        str: The next available file name.\n",
        "    \"\"\"\n",
        "    index = 0\n",
        "    while True:\n",
        "        file_name = f\"{file_prefix}_{model_name}_{index}.json\"\n",
        "        if os.path.exists(file_name):\n",
        "            return file_name, index\n",
        "        index += 1\n",
        "\n",
        "filepath_old = get_file_name(f\"{logs_path}/final_evaluation_metrics\", trained_model)\n",
        "\n",
        "# Example usage for comparing metrics\n",
        "model1_metrics_file = os.path.join(logs_path, f'final_evaluation_metrics_{new_model}_{index}.json')\n",
        "model2_metrics_file = os.path.join(filepath_old[0])\n",
        "\n",
        "metrics_comparison = compare_models_metrics(model1_metrics_file, model2_metrics_file)\n",
        "if metrics_comparison:\n",
        "    print(\"Metrics Comparison:\", metrics_comparison)\n",
        "else:\n",
        "    print(\"Comparison not possible. One or both metrics files are missing.\")\n",
        "\n"
      ],
      "metadata": {
        "id": "mawlJV7rQd8H",
        "outputId": "a00efc11-7192-4fef-a394-2b2bbb731ca5",
        "colab": {
          "base_uri": "https://localhost:8080/"
        }
      },
      "execution_count": 184,
      "outputs": [
        {
          "output_type": "stream",
          "name": "stdout",
          "text": [
            "Metrics Comparison: {'accuracy_change': 0.0}\n"
          ]
        }
      ]
    },
    {
      "cell_type": "markdown",
      "source": [],
      "metadata": {
        "id": "yzWkDgKvV0QK"
      }
    }
  ],
  "metadata": {
    "colab": {
      "provenance": []
    },
    "kernelspec": {
      "display_name": "Python 3",
      "name": "python3"
    },
    "language_info": {
      "name": "python"
    }
  },
  "nbformat": 4,
  "nbformat_minor": 0
}