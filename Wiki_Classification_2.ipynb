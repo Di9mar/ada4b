{
  "nbformat": 4,
  "nbformat_minor": 0,
  "metadata": {
    "colab": {
      "provenance": [],
      "gpuType": "T4",
      "include_colab_link": true
    },
    "kernelspec": {
      "name": "python3",
      "display_name": "Python 3"
    },
    "language_info": {
      "name": "python"
    },
    "accelerator": "GPU"
  },
  "cells": [
    {
      "cell_type": "markdown",
      "metadata": {
        "id": "view-in-github",
        "colab_type": "text"
      },
      "source": [
        "<a href=\"https://colab.research.google.com/github/Di9mar/ada4b/blob/main/Wiki_Classification_2.ipynb\" target=\"_parent\"><img src=\"https://colab.research.google.com/assets/colab-badge.svg\" alt=\"Open In Colab\"/></a>"
      ]
    },
    {
      "cell_type": "code",
      "source": [
        "# Source:\n",
        "# https://huggingface.co/datasets/aadityaubhat/GPT-wiki-intro/viewer/default/train"
      ],
      "metadata": {
        "id": "p62pEt3MrS2E"
      },
      "execution_count": 20,
      "outputs": []
    },
    {
      "cell_type": "code",
      "execution_count": null,
      "metadata": {
        "id": "yOmT1ILVXddw"
      },
      "outputs": [],
      "source": [
        "# Upgrade pip\n",
        "!pip install --upgrade pip\n",
        "\n",
        "# Install required packages\n",
        "!pip install datasets transformers torch scikit-learn accelerate\n",
        "\n",
        "# If you specifically need the 'torch' extras from transformers\n",
        "!pip install transformers[torch] --upgrade"
      ]
    },
    {
      "cell_type": "code",
      "source": [
        "from datasets import load_dataset\n",
        "import pandas as pd\n",
        "import torch\n",
        "from sklearn.model_selection import train_test_split\n",
        "from transformers import AutoModelForSequenceClassification, Trainer, TrainingArguments, AutoTokenizer, DistilBertConfig, TrainerCallback\n",
        "from torch.utils.data import Dataset\n",
        "import os\n",
        "import gc\n",
        "from datetime import datetime\n",
        "import subprocess\n",
        "from sklearn.metrics import accuracy_score, precision_recall_fscore_support, confusion_matrix, roc_auc_score, f1_score\n",
        "import numpy as np\n",
        "import json\n",
        "import shutil"
      ],
      "metadata": {
        "id": "JB_v3qlOXtGp"
      },
      "execution_count": 22,
      "outputs": []
    },
    {
      "cell_type": "code",
      "source": [
        "# Import the 'drive' module from the 'google.colab' library\n",
        "# This module allows you to mount your Google Drive in the Colab environment.\n",
        "# Make sure you have the necessary authorization to access your Drive.\n",
        "# If not already installed, you may need to install the 'google-colab' package.\n",
        "from google.colab import drive\n",
        "\n",
        "# Mount Google Drive to '/content/drive'\n",
        "# This will make your Google Drive files accessible from within the Colab environment.\n",
        "# You'll be prompted to authenticate and grant necessary permissions.\n",
        "drive.mount('/content/drive')\n"
      ],
      "metadata": {
        "id": "cZArTlG_YD6s",
        "colab": {
          "base_uri": "https://localhost:8080/"
        },
        "outputId": "6f6e2011-8449-4954-b2a7-d11101e6e1c1"
      },
      "execution_count": 23,
      "outputs": [
        {
          "output_type": "stream",
          "name": "stdout",
          "text": [
            "Drive already mounted at /content/drive; to attempt to forcibly remount, call drive.mount(\"/content/drive\", force_remount=True).\n"
          ]
        }
      ]
    },
    {
      "cell_type": "code",
      "source": [
        "# Define paths\n",
        "model_name = \"wiki\"\n",
        "# These variables store the paths to different directories and files.\n",
        "# They are used for organization and to ensure you have the correct paths when needed.\n",
        "base_path = \"/content/drive/My Drive/ColabData\"\n",
        "checkpoint_path = f\"{base_path}/checkpoints\"\n",
        "trained_model_path = f\"{base_path}/trained_model\"\n",
        "logs_path = f\"{base_path}/logs\"\n",
        "csv_path = f\"{base_path}/wiki_data.csv\"\n",
        "subset_paths = [f\"{base_path}/subset_{i}.csv\" for i in range(1, 5)]  # For training subsets and validation set\n",
        "\n",
        "# Create directories if they don't exist\n",
        "# This section checks if the specified directories exist, and if not, it creates them.\n",
        "os.makedirs(base_path, exist_ok=True)\n",
        "os.makedirs(checkpoint_path, exist_ok=True)\n",
        "os.makedirs(trained_model_path, exist_ok=True)\n",
        "os.makedirs(logs_path, exist_ok=True)\n",
        "\n",
        "# Check if the main CSV file exists and load or create it\n",
        "# This code checks if the main CSV file (wiki_data.csv) exists. If not, it loads data from a specified source\n",
        "# and saves it as a CSV file in the specified directory on Google Drive.\n",
        "if not os.path.exists(csv_path):\n",
        "    # Load data from directory on huggingface.co\n",
        "    dataset = load_dataset(\"aadityaubhat/GPT-wiki-intro\")\n",
        "\n",
        "    # Combine all splits into one DataFrame\n",
        "    df = pd.concat([dataset[split].to_pandas() for split in dataset.keys()])\n",
        "\n",
        "    # Save the DataFrame as a CSV file in the specified directory on Google Drive\n",
        "    df.to_csv(csv_path, index=False)\n",
        "else:\n",
        "    # Load the DataFrame from the CSV file\n",
        "    df = pd.read_csv(csv_path)\n",
        "\n",
        "# Split the data into training and validation sets\n",
        "# Here, the main DataFrame is split into a training set (df_subset) and a validation set (val_dataset).\n",
        "df_subset, val_dataset = train_test_split(df, test_size=0.1, random_state=42)\n",
        "\n",
        "# Save the validation set as a separate CSV file\n",
        "val_dataset.to_csv(f\"{base_path}/validation_set.csv\", index=False)\n",
        "\n",
        "# Check if subsets already exist, if not create and save them\n",
        "# This section checks if the training subsets (subset_1.csv, subset_2.csv, subset_3.csv) exist.\n",
        "# If not, it splits the training data into these subsets and saves them as CSV files.\n",
        "if not all(os.path.exists(path) for path in subset_paths):\n",
        "    split_size = len(df_subset) // 4\n",
        "    for i, subset_path in enumerate(subset_paths):\n",
        "        subset = df_subset.iloc[i*split_size: (i+1)*split_size]\n",
        "        subset.to_csv(subset_path, index=False)\n",
        "\n",
        "    # Free memory by deleting the original DataFrame and performing garbage collection\n",
        "    del df\n",
        "    gc.collect()"
      ],
      "metadata": {
        "id": "WhLTxdT1YEFi"
      },
      "execution_count": 24,
      "outputs": []
    },
    {
      "cell_type": "code",
      "source": [
        "# Define dataset class\n",
        "class TextDataset(torch.utils.data.Dataset):\n",
        "    def __init__(self, texts, labels, tokenizer, max_length=512):\n",
        "        self.texts = texts\n",
        "        self.labels = labels\n",
        "        self.tokenizer = tokenizer\n",
        "        self.max_length = max_length\n",
        "\n",
        "    def __getitem__(self, idx):\n",
        "        text = self.texts[idx]\n",
        "\n",
        "        # Tokenize the text on-the-fly\n",
        "        encoding = self.tokenizer(text, truncation=True, padding='max_length', max_length=self.max_length, return_tensors='pt')\n",
        "\n",
        "        # Convert the encoding to a format suitable for PyTorch\n",
        "        item = {key: val.squeeze(0) for key, val in encoding.items()}  # Squeeze is used to remove batch dimension\n",
        "        item['labels'] = torch.tensor(self.labels[idx])\n",
        "        return item\n",
        "\n",
        "    def __len__(self):\n",
        "        return len(self.labels)\n",
        "\n",
        "    def get_labels(self):\n",
        "        return self.labels"
      ],
      "metadata": {
        "id": "yIil8FW9XjAG"
      },
      "execution_count": 25,
      "outputs": []
    },
    {
      "cell_type": "code",
      "source": [
        "# Function to Calculate Metrics\n",
        "def calculate_evaluation_metrics(predictions, true_labels):\n",
        "    accuracy = accuracy_score(true_labels, predictions)\n",
        "    precision, recall, f1, _ = precision_recall_fscore_support(true_labels, predictions, average='binary')\n",
        "    conf_matrix = confusion_matrix(true_labels, predictions)\n",
        "    roc_auc = roc_auc_score(true_labels, predictions)  # For binary classification\n",
        "\n",
        "    return {\n",
        "        'accuracy': accuracy,\n",
        "        'precision': precision,\n",
        "        'recall': recall,\n",
        "        'F1_score': f1,\n",
        "        'confusion_matrix': conf_matrix.tolist(),\n",
        "        'ROC_AUC': roc_auc\n",
        "    }"
      ],
      "metadata": {
        "id": "Gglk9aXdmeRY"
      },
      "execution_count": 26,
      "outputs": []
    },
    {
      "cell_type": "code",
      "source": [
        "# Define training arguments\n",
        "training_args = TrainingArguments(\n",
        "    output_dir=checkpoint_path,\n",
        "    num_train_epochs=1,                    # Number of training epochs (You may adjust this)\n",
        "    per_device_train_batch_size=16,        # Batch size per GPU (Adjust based on your GPU memory)\n",
        "    gradient_accumulation_steps=2,         # Increase if using a larger effective batch size\n",
        "    evaluation_strategy=\"epoch\",           # Evaluation frequency (e.g., \"steps\" or \"epoch\")\n",
        "    logging_dir=logs_path,                 # Directory for logs\n",
        "    logging_steps=50,                      # Log training progress every N steps\n",
        "    save_strategy=\"epoch\",                 # Save checkpoints every N epochs\n",
        "    load_best_model_at_end=True,           # Load the best model at the end of training\n",
        ")"
      ],
      "metadata": {
        "id": "q8UWAmlrkX7f"
      },
      "execution_count": 27,
      "outputs": []
    },
    {
      "cell_type": "code",
      "source": [
        "# Training\n",
        "print(\"Preparing training data.\")\n",
        "\n",
        "# Define a function to prepare training datasets\n",
        "def prepare_training_data(df_subset):\n",
        "    train_labels = [0] * len(df_subset['wiki_intro']) + [1] * len(df_subset['generated_intro'])\n",
        "    train_texts = df_subset['wiki_intro'].tolist() + df_subset['generated_intro'].tolist()\n",
        "\n",
        "    # Create a training dataset using the TextDataset class\n",
        "    train_dataset = TextDataset(train_texts, train_labels, tokenizer)\n",
        "    return train_dataset\n",
        "\n",
        "# Evaluation\n",
        "print(\"Preparing validation data for final evaluation.\")\n",
        "\n",
        "# Define a function to prepare validation datasets\n",
        "def prepare_validation_data(val_dataset):\n",
        "    val_texts = val_dataset['wiki_intro'].tolist() + val_dataset['generated_intro'].tolist()\n",
        "    val_labels = [0] * len(val_dataset['wiki_intro']) + [1] * len(val_dataset['generated_intro'])\n",
        "\n",
        "    # Create a validation dataset using the TextDataset class\n",
        "    val_dataset = TextDataset(val_texts, val_labels, tokenizer)\n",
        "    return val_dataset"
      ],
      "metadata": {
        "id": "xXJYXn1n9Mr2",
        "colab": {
          "base_uri": "https://localhost:8080/"
        },
        "outputId": "3cc7b22b-802d-4f1d-c042-dbab69fa2fe5"
      },
      "execution_count": 28,
      "outputs": [
        {
          "output_type": "stream",
          "name": "stdout",
          "text": [
            "Preparing training data.\n",
            "Preparing validation data for final evaluation.\n"
          ]
        }
      ]
    },
    {
      "cell_type": "code",
      "source": [
        "# Prepare the subsets for validation\n",
        "val_dataset = prepare_validation_data(val_dataset)\n",
        "\n",
        "# Splitting 0.5% of data for training and another 0.5% for validation (optional)\n",
        "# _, small_val_dataset = train_test_split(val_dataset, test_size=0.005, random_state=43)\n",
        "# val_dataset = prepare_validation_data(small_val_dataset)\n",
        "\n",
        "# Verify Dataset Initialization\n",
        "if val_dataset is None or len(val_dataset) == 0:\n",
        "    raise ValueError(\"Validation dataset is empty or not initialized.\")\n",
        "\n",
        "# Debug prints to check datasets\n",
        "print(\"Validation dataset size:\", len(val_dataset))"
      ],
      "metadata": {
        "id": "JPf8M9yxjIS6",
        "colab": {
          "base_uri": "https://localhost:8080/"
        },
        "outputId": "466feb90-5614-463d-f5ab-c6017545a90e"
      },
      "execution_count": 29,
      "outputs": [
        {
          "output_type": "stream",
          "name": "stdout",
          "text": [
            "Validation dataset size: 30000\n"
          ]
        }
      ]
    },
    {
      "cell_type": "code",
      "source": [
        "# Use a small, fast model for quick training (DistilBERT)\n",
        "\n",
        "# Check if a model checkpoint exists in your drive\n",
        "if os.path.exists(trained_model_path) and os.listdir(trained_model_path):\n",
        "    # If a pre-trained model checkpoint exists in the specified directory, load it\n",
        "    print(f\"Loading model checkpoint from {trained_model_path}\")\n",
        "    model = AutoModelForSequenceClassification.from_pretrained(trained_model_path)\n",
        "    tokenizer = AutoTokenizer.from_pretrained(trained_model_path)\n",
        "    print(\"Model checkpoint loaded successfully.\")\n",
        "else:\n",
        "    # If no pre-trained model checkpoint exists, initialize a new model\n",
        "    model_name = \"distilbert-base-uncased\"\n",
        "    config = DistilBertConfig.from_pretrained(model_name)\n",
        "    config.num_labels = 2  # Assuming you have a binary classification task\n",
        "    model = AutoModelForSequenceClassification.from_pretrained(model_name, config=config)\n",
        "    tokenizer = AutoTokenizer.from_pretrained(model_name)\n",
        "    print(\"Initialized a new model.\")\n",
        "\n",
        "# Print the model configuration for reference\n",
        "print(f\"Model Configuration:\\n{model.config}\")\n",
        "\n",
        "# Print the tokenizer information\n",
        "print(f\"Tokenizer Information:\\n{tokenizer}\")\n",
        "\n",
        "# Initialize the Trainer\n",
        "trainer = Trainer(\n",
        "    model=model,                 # Initially, set with the base model\n",
        "    args=training_args,\n",
        "    eval_dataset=val_dataset,\n",
        "    tokenizer=tokenizer\n",
        ")"
      ],
      "metadata": {
        "id": "gWZwCNhwXi90",
        "colab": {
          "base_uri": "https://localhost:8080/"
        },
        "outputId": "55f50938-7b1d-47db-fa29-fb9b76629ab3"
      },
      "execution_count": 30,
      "outputs": [
        {
          "output_type": "stream",
          "name": "stderr",
          "text": [
            "Some weights of DistilBertForSequenceClassification were not initialized from the model checkpoint at distilbert-base-uncased and are newly initialized: ['classifier.weight', 'classifier.bias', 'pre_classifier.bias', 'pre_classifier.weight']\n",
            "You should probably TRAIN this model on a down-stream task to be able to use it for predictions and inference.\n"
          ]
        },
        {
          "output_type": "stream",
          "name": "stdout",
          "text": [
            "Initialized a new model.\n",
            "Model Configuration:\n",
            "DistilBertConfig {\n",
            "  \"_name_or_path\": \"distilbert-base-uncased\",\n",
            "  \"activation\": \"gelu\",\n",
            "  \"architectures\": [\n",
            "    \"DistilBertForMaskedLM\"\n",
            "  ],\n",
            "  \"attention_dropout\": 0.1,\n",
            "  \"dim\": 768,\n",
            "  \"dropout\": 0.1,\n",
            "  \"hidden_dim\": 3072,\n",
            "  \"initializer_range\": 0.02,\n",
            "  \"max_position_embeddings\": 512,\n",
            "  \"model_type\": \"distilbert\",\n",
            "  \"n_heads\": 12,\n",
            "  \"n_layers\": 6,\n",
            "  \"pad_token_id\": 0,\n",
            "  \"qa_dropout\": 0.1,\n",
            "  \"seq_classif_dropout\": 0.2,\n",
            "  \"sinusoidal_pos_embds\": false,\n",
            "  \"tie_weights_\": true,\n",
            "  \"transformers_version\": \"4.36.2\",\n",
            "  \"vocab_size\": 30522\n",
            "}\n",
            "\n",
            "Tokenizer Information:\n",
            "DistilBertTokenizerFast(name_or_path='distilbert-base-uncased', vocab_size=30522, model_max_length=512, is_fast=True, padding_side='right', truncation_side='right', special_tokens={'unk_token': '[UNK]', 'sep_token': '[SEP]', 'pad_token': '[PAD]', 'cls_token': '[CLS]', 'mask_token': '[MASK]'}, clean_up_tokenization_spaces=True),  added_tokens_decoder={\n",
            "\t0: AddedToken(\"[PAD]\", rstrip=False, lstrip=False, single_word=False, normalized=False, special=True),\n",
            "\t100: AddedToken(\"[UNK]\", rstrip=False, lstrip=False, single_word=False, normalized=False, special=True),\n",
            "\t101: AddedToken(\"[CLS]\", rstrip=False, lstrip=False, single_word=False, normalized=False, special=True),\n",
            "\t102: AddedToken(\"[SEP]\", rstrip=False, lstrip=False, single_word=False, normalized=False, special=True),\n",
            "\t103: AddedToken(\"[MASK]\", rstrip=False, lstrip=False, single_word=False, normalized=False, special=True),\n",
            "}\n"
          ]
        }
      ]
    },
    {
      "cell_type": "code",
      "source": [
        "# Define the number of manual epochs and initialize a list to store checkpoint paths\n",
        "num_manual_epochs = 4  # Set the number of manual epochs\n",
        "all_checkpoint_paths = []\n",
        "epoch_metrics = {}\n",
        "all_metrics_paths = []\n",
        "\n",
        "# Initialize the starting_epoch to 0\n",
        "starting_epoch = 0\n",
        "# Determine the starting epoch based on existing checkpoints\n",
        "while True:\n",
        "    starting_epoch += 1\n",
        "    checkpoint_directory = f\"{checkpoint_path}/manual_epoch_{starting_epoch}\"\n",
        "    if not os.path.exists(checkpoint_directory):\n",
        "        break\n",
        "\n",
        "# Print the determined starting epoch\n",
        "print(f\"Starting epoch: {starting_epoch}\")\n",
        "\n",
        "# Looping over the manual epochs starting from the determined epoch\n",
        "for epoch in range(starting_epoch - 1, num_manual_epochs):\n",
        "    # Correctly set checkpoint_directory for the current epoch\n",
        "    checkpoint_directory = f\"{checkpoint_path}/manual_epoch_{epoch + 1}\"\n",
        "    print(f\"Starting manual epoch {epoch + 1}/{num_manual_epochs}\")\n",
        "\n",
        "    # Determine subset index based on the epoch and starting_epoch\n",
        "    subset_index = (epoch + 1) % len(subset_paths)  # Calculate the subset index\n",
        "\n",
        "    # Load and prepare data for the current epoch\n",
        "    subset_path = subset_paths[subset_index]\n",
        "    print(f\"Loading and preparing data for subset {subset_index}\")\n",
        "    current_df = pd.read_csv(subset_path)\n",
        "    current_train_dataset = prepare_training_data(current_df)\n",
        "\n",
        "    # Splitting 0.2% of data for training\n",
        "    # _, small_train_dataset = train_test_split(current_df, test_size=0.002, random_state=42)\n",
        "    # Prepare the subsets for training and validation\n",
        "    # current_train_dataset = prepare_training_data(small_train_dataset)\n",
        "\n",
        "    # Verify Dataset Initialization\n",
        "    if current_train_dataset is None or len(current_train_dataset) == 0:\n",
        "        raise ValueError(\"Training dataset is empty or not initialized.\")\n",
        "\n",
        "    # Debug prints to check datasets\n",
        "    print(\"Training dataset size:\", len(current_train_dataset))\n",
        "\n",
        "    # Check if the specific checkpoint for this epoch exists\n",
        "    if os.path.exists(checkpoint_directory) and epoch != 0:\n",
        "        previous_checkpoint_directory = f\"{checkpoint_path}/manual_epoch_{epoch}\"\n",
        "        print(f\"Loading checkpoint for epoch {epoch + 1} from {previous_checkpoint_directory}\")\n",
        "        model = AutoModelForSequenceClassification.from_pretrained(previous_checkpoint_directory)\n",
        "        tokenizer = AutoTokenizer.from_pretrained(previous_checkpoint_directory)\n",
        "        trainer.model = model\n",
        "        trainer.tokenizer = tokenizer\n",
        "    else:\n",
        "        # If no specific checkpoint found, use the base DistilBERT model\n",
        "        print(f\"No checkpoint found for epoch {epoch}, continuing with base model. Checkpoint directory: {checkpoint_directory}\")\n",
        "        model = AutoModelForSequenceClassification.from_pretrained(\"distilbert-base-uncased\", config=config)\n",
        "        tokenizer = AutoTokenizer.from_pretrained(\"distilbert-base-uncased\")\n",
        "\n",
        "    # Update the Trainer's datasets for the current epoch\n",
        "    trainer.train_dataset = current_train_dataset\n",
        "    trainer.eval_dataset = val_dataset\n",
        "\n",
        "    # Train the model for one epoch on the current dataset\n",
        "    print(\"Starting training...\")\n",
        "    trainer.train()\n",
        "\n",
        "    # # Optionally, evaluate the model after the epoch\n",
        "    # print(\"Evaluating model after training on current subset.\")\n",
        "    # results = trainer.evaluate()\n",
        "    # print(f\"Evaluation results: {results}\")\n",
        "\n",
        "    # # Check if \"predictions\" and \"label_ids\" exist in the results dictionary\n",
        "    # if 0 in results and 1 in results:\n",
        "    #     predictions = np.argmax(results[\"predictions\"], axis=1)\n",
        "    #     true_labels = results[\"label_ids\"]\n",
        "    # else:\n",
        "    #     print(\"Warning: Predictions and label_ids are not available for this evaluation.\")\n",
        "    #     predictions = None\n",
        "    #     true_labels = None\n",
        "\n",
        "    # # Calculate metrics if true_labels are available\n",
        "    # if true_labels is not None:\n",
        "    #     # Calculate metrics\n",
        "    #     epoch_metrics = calculate_evaluation_metrics(predictions, true_labels)\n",
        "    # else:\n",
        "    #     # Handle the case when true_labels is None (e.g., print a message or skip metrics calculation)\n",
        "    #     print(\"True labels are not available for this evaluation.\")\n",
        "\n",
        "    # After completing the training for the current epoch, save the model\n",
        "    print(f\"Saving model and tokenizer after manual epoch {epoch + 1}, subset {subset_index + 1}\")\n",
        "    trainer.save_model(checkpoint_directory)\n",
        "    tokenizer.save_pretrained(checkpoint_directory)\n",
        "\n",
        "    # Save metrics for this epoch\n",
        "    metrics_path = f\"{logs_path}/metrics_epoch_{epoch + 1}.json\"\n",
        "    with open(metrics_path, 'w') as file:\n",
        "        json.dump(epoch_metrics, file, indent=4)\n",
        "\n",
        "    # Add the path to the metrics file to the list for later use\n",
        "    all_metrics_paths.append(metrics_path)\n",
        "\n",
        "    # Add the checkpoint directory to the list\n",
        "    all_checkpoint_paths.append(checkpoint_directory)\n",
        "\n",
        "    # Free up memory\n",
        "    print(\"Freeing up memory.\")\n",
        "    del current_df, current_train_dataset\n",
        "    gc.collect()\n",
        "    torch.cuda.empty_cache()\n",
        "\n",
        "print(\"Training process complete.\")"
      ],
      "metadata": {
        "id": "5D24LXCiFZyb",
        "colab": {
          "base_uri": "https://localhost:8080/",
          "height": 608
        },
        "outputId": "c0a8a931-d3ed-4151-ae7e-093d84bbb51b"
      },
      "execution_count": 89,
      "outputs": [
        {
          "output_type": "stream",
          "name": "stdout",
          "text": [
            "Starting epoch: 2\n",
            "Starting manual epoch 3/4\n",
            "Loading and preparing data for subset 3\n",
            "Training dataset size: 67500\n",
            "No checkpoint found for epoch 3, continuing with base model. Checkpoint directory: /content/drive/My Drive/ColabData/checkpoints/manual_epoch_3\n"
          ]
        },
        {
          "output_type": "stream",
          "name": "stderr",
          "text": [
            "Some weights of DistilBertForSequenceClassification were not initialized from the model checkpoint at distilbert-base-uncased and are newly initialized: ['classifier.weight', 'classifier.bias', 'pre_classifier.bias', 'pre_classifier.weight']\n",
            "You should probably TRAIN this model on a down-stream task to be able to use it for predictions and inference.\n"
          ]
        },
        {
          "output_type": "stream",
          "name": "stdout",
          "text": [
            "Starting training...\n"
          ]
        },
        {
          "output_type": "display_data",
          "data": {
            "text/plain": [
              "<IPython.core.display.HTML object>"
            ],
            "text/html": [
              "\n",
              "    <div>\n",
              "      \n",
              "      <progress value='2' max='2109' style='width:300px; height:20px; vertical-align: middle;'></progress>\n",
              "      [   2/2109 : < :, Epoch 0.00/1]\n",
              "    </div>\n",
              "    <table border=\"1\" class=\"dataframe\">\n",
              "  <thead>\n",
              " <tr style=\"text-align: left;\">\n",
              "      <th>Epoch</th>\n",
              "      <th>Training Loss</th>\n",
              "      <th>Validation Loss</th>\n",
              "    </tr>\n",
              "  </thead>\n",
              "  <tbody>\n",
              "  </tbody>\n",
              "</table><p>"
            ]
          },
          "metadata": {}
        },
        {
          "output_type": "error",
          "ename": "KeyboardInterrupt",
          "evalue": "",
          "traceback": [
            "\u001b[0;31m---------------------------------------------------------------------------\u001b[0m",
            "\u001b[0;31mKeyboardInterrupt\u001b[0m                         Traceback (most recent call last)",
            "\u001b[0;32m<ipython-input-89-8863f5d7b9f7>\u001b[0m in \u001b[0;36m<cell line: 20>\u001b[0;34m()\u001b[0m\n\u001b[1;32m     64\u001b[0m     \u001b[0;31m# Train the model for one epoch on the current dataset\u001b[0m\u001b[0;34m\u001b[0m\u001b[0;34m\u001b[0m\u001b[0m\n\u001b[1;32m     65\u001b[0m     \u001b[0mprint\u001b[0m\u001b[0;34m(\u001b[0m\u001b[0;34m\"Starting training...\"\u001b[0m\u001b[0;34m)\u001b[0m\u001b[0;34m\u001b[0m\u001b[0;34m\u001b[0m\u001b[0m\n\u001b[0;32m---> 66\u001b[0;31m     \u001b[0mtrainer\u001b[0m\u001b[0;34m.\u001b[0m\u001b[0mtrain\u001b[0m\u001b[0;34m(\u001b[0m\u001b[0;34m)\u001b[0m\u001b[0;34m\u001b[0m\u001b[0;34m\u001b[0m\u001b[0m\n\u001b[0m\u001b[1;32m     67\u001b[0m \u001b[0;34m\u001b[0m\u001b[0m\n\u001b[1;32m     68\u001b[0m     \u001b[0;31m# # Optionally, evaluate the model after the epoch\u001b[0m\u001b[0;34m\u001b[0m\u001b[0;34m\u001b[0m\u001b[0m\n",
            "\u001b[0;32m/usr/local/lib/python3.10/dist-packages/transformers/trainer.py\u001b[0m in \u001b[0;36mtrain\u001b[0;34m(self, resume_from_checkpoint, trial, ignore_keys_for_eval, **kwargs)\u001b[0m\n\u001b[1;32m   1535\u001b[0m                 \u001b[0mhf_hub_utils\u001b[0m\u001b[0;34m.\u001b[0m\u001b[0menable_progress_bars\u001b[0m\u001b[0;34m(\u001b[0m\u001b[0;34m)\u001b[0m\u001b[0;34m\u001b[0m\u001b[0;34m\u001b[0m\u001b[0m\n\u001b[1;32m   1536\u001b[0m         \u001b[0;32melse\u001b[0m\u001b[0;34m:\u001b[0m\u001b[0;34m\u001b[0m\u001b[0;34m\u001b[0m\u001b[0m\n\u001b[0;32m-> 1537\u001b[0;31m             return inner_training_loop(\n\u001b[0m\u001b[1;32m   1538\u001b[0m                 \u001b[0margs\u001b[0m\u001b[0;34m=\u001b[0m\u001b[0margs\u001b[0m\u001b[0;34m,\u001b[0m\u001b[0;34m\u001b[0m\u001b[0;34m\u001b[0m\u001b[0m\n\u001b[1;32m   1539\u001b[0m                 \u001b[0mresume_from_checkpoint\u001b[0m\u001b[0;34m=\u001b[0m\u001b[0mresume_from_checkpoint\u001b[0m\u001b[0;34m,\u001b[0m\u001b[0;34m\u001b[0m\u001b[0;34m\u001b[0m\u001b[0m\n",
            "\u001b[0;32m/usr/local/lib/python3.10/dist-packages/transformers/trainer.py\u001b[0m in \u001b[0;36m_inner_training_loop\u001b[0;34m(self, batch_size, args, resume_from_checkpoint, trial, ignore_keys_for_eval)\u001b[0m\n\u001b[1;32m   1857\u001b[0m                     \u001b[0margs\u001b[0m\u001b[0;34m.\u001b[0m\u001b[0mlogging_nan_inf_filter\u001b[0m\u001b[0;34m\u001b[0m\u001b[0;34m\u001b[0m\u001b[0m\n\u001b[1;32m   1858\u001b[0m                     \u001b[0;32mand\u001b[0m \u001b[0;32mnot\u001b[0m \u001b[0mis_torch_tpu_available\u001b[0m\u001b[0;34m(\u001b[0m\u001b[0;34m)\u001b[0m\u001b[0;34m\u001b[0m\u001b[0;34m\u001b[0m\u001b[0m\n\u001b[0;32m-> 1859\u001b[0;31m                     \u001b[0;32mand\u001b[0m \u001b[0;34m(\u001b[0m\u001b[0mtorch\u001b[0m\u001b[0;34m.\u001b[0m\u001b[0misnan\u001b[0m\u001b[0;34m(\u001b[0m\u001b[0mtr_loss_step\u001b[0m\u001b[0;34m)\u001b[0m \u001b[0;32mor\u001b[0m \u001b[0mtorch\u001b[0m\u001b[0;34m.\u001b[0m\u001b[0misinf\u001b[0m\u001b[0;34m(\u001b[0m\u001b[0mtr_loss_step\u001b[0m\u001b[0;34m)\u001b[0m\u001b[0;34m)\u001b[0m\u001b[0;34m\u001b[0m\u001b[0;34m\u001b[0m\u001b[0m\n\u001b[0m\u001b[1;32m   1860\u001b[0m                 ):\n\u001b[1;32m   1861\u001b[0m                     \u001b[0;31m# if loss is nan or inf simply add the average of previous logged losses\u001b[0m\u001b[0;34m\u001b[0m\u001b[0;34m\u001b[0m\u001b[0m\n",
            "\u001b[0;31mKeyboardInterrupt\u001b[0m: "
          ]
        }
      ]
    },
    {
      "cell_type": "code",
      "source": [
        "# After completing all epochs, save the final model state\n",
        "final_checkpoint_directory = f\"{trained_model_path}{model_name}\"\n",
        "print(f\"Saving final model and tokenizer to {final_checkpoint_directory}\")\n",
        "\n",
        "# Save the final model and tokenizer\n",
        "trainer.save_model(final_checkpoint_directory)\n",
        "tokenizer.save_pretrained(final_checkpoint_directory)\n",
        "\n",
        "# Clean up intermediate checkpoint directories\n",
        "# for i in range(num_manual_epochs):\n",
        "#     checkpoint_directory = f\"{checkpoint_path}/manual_epoch_{i + 1}\"\n",
        "#     if os.path.exists(checkpoint_directory):\n",
        "#         shutil.rmtree(checkpoint_directory)\n",
        "#         print(f\"Deleted checkpoint directory: {checkpoint_directory}\")\n",
        "\n",
        "# print(\"Final model and checkpoint directories saved. Intermediate checkpoints deleted.\")\n",
        "\n",
        "if os.path.exists(checkpoint_path):\n",
        "    shutil.rmtree(checkpoint_path)\n",
        "    print(f\"Deleted entire checkpoint directory: {checkpoint_path}\")\n",
        "os.makedirs(checkpoint_path, exist_ok=True)"
      ],
      "metadata": {
        "id": "QJ8QXG9OpQ5W"
      },
      "execution_count": null,
      "outputs": []
    },
    {
      "cell_type": "code",
      "source": [
        "# Function to initialize the Trainer for evaluation\n",
        "def initialize_trainer_for_evaluation(model, training_args, eval_dataset):\n",
        "    \"\"\"\n",
        "    Initialize a Trainer object for model evaluation.\n",
        "\n",
        "    Args:\n",
        "        model (PreTrainedModel): The pre-trained model to evaluate.\n",
        "        training_args (TrainingArguments): Training arguments for evaluation.\n",
        "        eval_dataset (Dataset): The evaluation dataset.\n",
        "\n",
        "    Returns:\n",
        "        Trainer: A Trainer object for evaluation.\n",
        "    \"\"\"\n",
        "    return Trainer(\n",
        "        model=model,\n",
        "        args=training_args,\n",
        "        eval_dataset=eval_dataset,\n",
        "    )\n",
        "\n",
        "# Function to get the next available file name\n",
        "def get_next_file_name(file_prefix):\n",
        "    \"\"\"\n",
        "    Get the next available file name by appending an index.\n",
        "\n",
        "    Args:\n",
        "        file_prefix (str): The prefix for the file name.\n",
        "\n",
        "    Returns:\n",
        "        str: The next available file name.\n",
        "    \"\"\"\n",
        "    index = 0\n",
        "    while True:\n",
        "        file_name = f\"{file_prefix}_{index}.json\"\n",
        "        if not os.path.exists(file_name):\n",
        "            return file_name\n",
        "        index += 1"
      ],
      "metadata": {
        "id": "tluIA7j4bZhb"
      },
      "execution_count": null,
      "outputs": []
    },
    {
      "cell_type": "code",
      "source": [
        "# Load the final model for evaluation after all epochs\n",
        "final_model_path = all_checkpoint_paths[-1] if all_checkpoint_paths else None\n",
        "\n",
        "if final_model_path:\n",
        "    print(\"Loading final model for evaluation from:\", final_checkpoint_directory)\n",
        "    model = AutoModelForSequenceClassification.from_pretrained(final_checkpoint_directory, config=config)\n",
        "    tokenizer = AutoTokenizer.from_pretrained(final_checkpoint_directory)\n",
        "\n",
        "    # Initialize the Trainer for final evaluation with the validation dataset\n",
        "    eval_trainer = initialize_trainer_for_evaluation(model, training_args, val_dataset)\n",
        "\n",
        "    # Predict on the validation dataset\n",
        "    print(\"Predicting on the validation dataset.\")\n",
        "    predictions = eval_trainer.predict(val_dataset)\n",
        "\n",
        "    # Extract the predicted labels from the predictions\n",
        "    final_predictions = np.argmax(predictions.predictions, axis=1)\n",
        "    final_true_labels = val_dataset.get_labels()  # Get the true labels from the validation dataset\n",
        "\n",
        "    # Calculate final evaluation metrics\n",
        "    final_metrics = calculate_evaluation_metrics(final_predictions, final_true_labels)\n",
        "\n",
        "    # Save final metrics with a sequentially numbered file name\n",
        "    final_metrics_path = get_next_file_name(f\"{logs_path}/final_evaluation_metrics\")\n",
        "    try:\n",
        "        with open(final_metrics_path, 'w') as file:\n",
        "            json.dump(final_metrics, file, indent=4)\n",
        "            print(f\"Final Evaluation Metrics Saved as {final_metrics_path}\")\n",
        "    except Exception as e:\n",
        "        print(f\"An error occurred while saving the final metrics: {str(e)}\")\n",
        "\n",
        "    # Add the path to the final evaluation metrics file to the list for later use\n",
        "    all_metrics_paths.append(final_metrics_path)\n",
        "\n",
        "    # Print the final evaluation metrics\n",
        "    print(\"Final Evaluation Metrics:\")\n",
        "    print(\"Accuracy:\", final_metrics['accuracy'])\n",
        "    print(\"Precision:\", final_metrics['precision'])\n",
        "    print(\"Recall:\", final_metrics['recall'])\n",
        "    print(\"F1 Score:\", final_metrics['F1_score'])\n",
        "    print(\"Confusion Matrix:\")\n",
        "    print(final_metrics['confusion_matrix'])\n",
        "    print(\"ROC AUC:\", final_metrics['ROC_AUC'])\n",
        "\n",
        "    # Print the last saved final metrics\n",
        "    if os.path.exists(final_metrics_path):\n",
        "        print(f\"Last Saved Final Metrics ({final_metrics_path}):\")\n",
        "        with open(final_metrics_path, 'r') as file:\n",
        "            last_saved_metrics = json.load(file)\n",
        "            print(\"Accuracy:\", last_saved_metrics['accuracy'])\n",
        "            print(\"Precision:\", last_saved_metrics['precision'])\n",
        "            print(\"Recall:\", last_saved_metrics['recall'])\n",
        "            print(\"F1 Score:\", last_saved_metrics['F1_score'])\n",
        "            print(\"Confusion Matrix:\")\n",
        "            print(last_saved_metrics['confusion_matrix'])\n",
        "            print(\"ROC AUC:\", last_saved_metrics['ROC_AUC'])\n",
        "else:\n",
        "    print(\"No model checkpoint found for evaluation.\")"
      ],
      "metadata": {
        "id": "gSCuFEkN5Bw4"
      },
      "execution_count": null,
      "outputs": []
    }
  ]
}