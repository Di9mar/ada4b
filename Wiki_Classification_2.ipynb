{
  "nbformat": 4,
  "nbformat_minor": 0,
  "metadata": {
    "colab": {
      "provenance": [],
      "gpuType": "T4",
      "include_colab_link": true
    },
    "kernelspec": {
      "name": "python3",
      "display_name": "Python 3"
    },
    "language_info": {
      "name": "python"
    },
    "accelerator": "GPU"
  },
  "cells": [
    {
      "cell_type": "markdown",
      "metadata": {
        "id": "view-in-github",
        "colab_type": "text"
      },
      "source": [
        "<a href=\"https://colab.research.google.com/github/Di9mar/ada4b/blob/main/Wiki_Classification_2.ipynb\" target=\"_parent\"><img src=\"https://colab.research.google.com/assets/colab-badge.svg\" alt=\"Open In Colab\"/></a>"
      ]
    },
    {
      "cell_type": "code",
      "source": [
        "# Source:\n",
        "# https://huggingface.co/datasets/aadityaubhat/GPT-wiki-intro/viewer/default/train"
      ],
      "metadata": {
        "id": "p62pEt3MrS2E"
      },
      "execution_count": 1,
      "outputs": []
    },
    {
      "cell_type": "code",
      "execution_count": null,
      "metadata": {
        "id": "yOmT1ILVXddw"
      },
      "outputs": [],
      "source": [
        "# Upgrade pip\n",
        "!pip install --upgrade pip\n",
        "\n",
        "# Install required packages\n",
        "!pip install datasets transformers torch scikit-learn accelerate\n",
        "\n",
        "# If you specifically need the 'torch' extras from transformers\n",
        "!pip install transformers[torch] --upgrade"
      ]
    },
    {
      "cell_type": "code",
      "source": [
        "from datasets import load_dataset\n",
        "import pandas as pd\n",
        "import torch\n",
        "from sklearn.model_selection import train_test_split\n",
        "from transformers import AutoModelForSequenceClassification, Trainer, TrainingArguments, AutoTokenizer, DistilBertConfig, TrainerCallback\n",
        "from torch.utils.data import Dataset\n",
        "import os\n",
        "import gc\n",
        "from datetime import datetime\n",
        "import subprocess\n",
        "from sklearn.metrics import accuracy_score, precision_recall_fscore_support, confusion_matrix, roc_auc_score, f1_score\n",
        "import numpy as np\n",
        "import json\n",
        "import shutil"
      ],
      "metadata": {
        "id": "JB_v3qlOXtGp"
      },
      "execution_count": 3,
      "outputs": []
    },
    {
      "cell_type": "code",
      "source": [
        "from google.colab import drive\n",
        "drive.mount('/content/drive')"
      ],
      "metadata": {
        "id": "cZArTlG_YD6s",
        "colab": {
          "base_uri": "https://localhost:8080/"
        },
        "outputId": "a46ce4ee-4b66-4d71-90d6-1fa64c2db7c4"
      },
      "execution_count": 4,
      "outputs": [
        {
          "output_type": "stream",
          "name": "stdout",
          "text": [
            "Mounted at /content/drive\n"
          ]
        }
      ]
    },
    {
      "cell_type": "code",
      "source": [
        "# Define paths\n",
        "base_path = \"/content/drive/My Drive/ColabData\"\n",
        "checkpoint_path = f\"{base_path}/checkpoints\"\n",
        "trained_model_path = f\"{base_path}/trained_model\"\n",
        "logs_path = f\"{base_path}/logs\"\n",
        "csv_path = f\"{base_path}/wiki_data.csv\"\n",
        "subset_paths = [f\"{base_path}/subset_{i}.csv\" for i in range(1, 4)]  # 4 for four 30% training subsets and one 10% validation subset\n",
        "\n",
        "# Create directories if they don't exist\n",
        "os.makedirs(base_path, exist_ok=True)\n",
        "os.makedirs(checkpoint_path, exist_ok=True)\n",
        "os.makedirs(trained_model_path, exist_ok=True)\n",
        "os.makedirs(logs_path, exist_ok=True)\n",
        "\n",
        "# Check if the main CSV file exists and load or create it\n",
        "if not os.path.exists(csv_path):\n",
        "    # Load data from directory on huggingface.co\n",
        "    dataset = load_dataset(\"aadityaubhat/GPT-wiki-intro\")\n",
        "\n",
        "    # Combine all splits into one DataFrame\n",
        "    df = pd.concat([dataset[split].to_pandas() for split in dataset.keys()])\n",
        "\n",
        "    # Save the DataFrame as a CSV file in the specified directory on Google Drive\n",
        "    df.to_csv(csv_path, index=False)\n",
        "else:\n",
        "    # Load the DataFrame from the CSV file\n",
        "    df = pd.read_csv(csv_path)\n",
        "\n",
        "# Split the data into training and validation sets\n",
        "df_subset, val_dataset = train_test_split(df, test_size=0.1, random_state=42)\n",
        "val_dataset.to_csv(f\"{base_path}/validation_set.csv\", index=False)  # Save validation set\n",
        "\n",
        "# Check if subsets already exist, if not create and save them\n",
        "if not all(os.path.exists(path) for path in subset_paths):\n",
        "    split_size = len(df_subset) // 3\n",
        "    for i, subset_path in enumerate(subset_paths):\n",
        "        subset = df_subset.iloc[i*split_size: (i+1)*split_size]\n",
        "        subset.to_csv(subset_path, index=False)\n",
        "\n",
        "    # Free memory\n",
        "    del df\n",
        "    gc.collect()"
      ],
      "metadata": {
        "id": "WhLTxdT1YEFi"
      },
      "execution_count": 5,
      "outputs": []
    },
    {
      "cell_type": "code",
      "source": [
        "# Use a small, fast model for quick training (DistilBERT)\n",
        "# Check if a model checkpoint exists in your drive\n",
        "if os.path.exists(trained_model_path) and os.listdir(trained_model_path):\n",
        "    print(f\"Loading model checkpoint from {trained_model_path}\")\n",
        "    model = AutoModelForSequenceClassification.from_pretrained(trained_model_path)\n",
        "    tokenizer = AutoTokenizer.from_pretrained(trained_model_path)\n",
        "\n",
        "else:\n",
        "    # Initialize the model if a checkpoint doesn't exist\n",
        "    model_name = \"distilbert-base-uncased\"\n",
        "    config = DistilBertConfig.from_pretrained(model_name)\n",
        "    config.num_labels = 2\n",
        "    model = AutoModelForSequenceClassification.from_pretrained(model_name, config=config)\n",
        "    tokenizer = AutoTokenizer.from_pretrained(model_name)\n"
      ],
      "metadata": {
        "id": "gWZwCNhwXi90",
        "colab": {
          "base_uri": "https://localhost:8080/"
        },
        "outputId": "1ca61867-c929-4c7e-bc1f-c7356bf85ab1"
      },
      "execution_count": 14,
      "outputs": [
        {
          "output_type": "stream",
          "name": "stdout",
          "text": [
            "Loading model checkpoint from /content/drive/My Drive/ColabData/trained_model\n"
          ]
        }
      ]
    },
    {
      "cell_type": "code",
      "source": [
        "# Define dataset class\n",
        "class TextDataset(torch.utils.data.Dataset):\n",
        "    def __init__(self, texts, labels, tokenizer, max_length=512):\n",
        "        self.texts = texts\n",
        "        self.labels = labels\n",
        "        self.tokenizer = tokenizer\n",
        "        self.max_length = max_length\n",
        "\n",
        "    def __getitem__(self, idx):\n",
        "        text = self.texts[idx]\n",
        "        # Tokenize the text on-the-fly\n",
        "        encoding = self.tokenizer(text, truncation=True, padding='max_length', max_length=self.max_length, return_tensors='pt')\n",
        "        # Convert the encoding to a format suitable for PyTorch\n",
        "        item = {key: val.squeeze(0) for key, val in encoding.items()}  # Squeeze is used to remove batch dimension\n",
        "        item['labels'] = torch.tensor(self.labels[idx])\n",
        "        return item\n",
        "\n",
        "    def __len__(self):\n",
        "        return len(self.labels)\n",
        "\n",
        "    def get_labels(self):\n",
        "        return self.labels\n",
        "\n",
        "# Function to Calculate Metrics\n",
        "def calculate_evaluation_metrics(predictions, true_labels):\n",
        "    accuracy = accuracy_score(true_labels, predictions)\n",
        "    precision, recall, f1, _ = precision_recall_fscore_support(true_labels, predictions, average='binary')\n",
        "    conf_matrix = confusion_matrix(true_labels, predictions)\n",
        "    roc_auc = roc_auc_score(true_labels, predictions)  # For binary classification\n",
        "\n",
        "    return {\n",
        "        'accuracy': accuracy,\n",
        "        'precision': precision,\n",
        "        'recall': recall,\n",
        "        'F1_score': f1,\n",
        "        'confusion_matrix': conf_matrix.tolist(),\n",
        "        'ROC_AUC': roc_auc\n",
        "    }"
      ],
      "metadata": {
        "id": "yIil8FW9XjAG"
      },
      "execution_count": 7,
      "outputs": []
    },
    {
      "cell_type": "code",
      "source": [
        "# Define training arguments\n",
        "training_args = TrainingArguments(\n",
        "    output_dir=checkpoint_path,\n",
        "    num_train_epochs=1,  # We'll manually loop over epochs\n",
        "    per_device_train_batch_size=16,  # Adjust based on your GPU memory\n",
        "    gradient_accumulation_steps=2,  # Increase if using a larger effective batch size\n",
        "    evaluation_strategy=\"epoch\",\n",
        "    logging_dir=logs_path,\n",
        "    logging_steps=50,\n",
        "    save_strategy=\"epoch\",\n",
        "    load_best_model_at_end=True,\n",
        ")"
      ],
      "metadata": {
        "id": "q8UWAmlrkX7f"
      },
      "execution_count": 8,
      "outputs": []
    },
    {
      "cell_type": "code",
      "source": [
        "# Training\n",
        "print(\"Preparing training data.\")\n",
        "# Define training datasets preparation function\n",
        "def prepare_training_data(df_subset):\n",
        "    train_labels = [0] * len(df_subset['wiki_intro']) + [1] * len(df_subset['generated_intro'])\n",
        "    train_texts = df_subset['wiki_intro'].tolist() + df_subset['generated_intro'].tolist()\n",
        "    train_dataset = TextDataset(train_texts, train_labels, tokenizer)\n",
        "    return train_dataset\n",
        "\n",
        "# Evaluation\n",
        "print(\"Preparing validation data for final evaluation.\")\n",
        "# Function to prepare validation data\n",
        "def prepare_validation_data(val_dataset):\n",
        "    val_texts = val_dataset['wiki_intro'].tolist() + val_dataset['generated_intro'].tolist()\n",
        "    val_labels = [0] * len(val_dataset['wiki_intro']) + [1] * len(val_dataset['generated_intro'])\n",
        "    val_dataset = TextDataset(val_texts, val_labels, tokenizer)\n",
        "    return val_dataset"
      ],
      "metadata": {
        "id": "xXJYXn1n9Mr2",
        "colab": {
          "base_uri": "https://localhost:8080/"
        },
        "outputId": "1235392c-9713-4b43-91d5-0954ea3c3e17"
      },
      "execution_count": 9,
      "outputs": [
        {
          "output_type": "stream",
          "name": "stdout",
          "text": [
            "Preparing training data.\n",
            "Preparing validation data for final evaluation.\n"
          ]
        }
      ]
    },
    {
      "cell_type": "code",
      "source": [
        "# Prepare the subsets for validation\n",
        "# Splitting 0.5% of data for training and another 0.5% for validation\n",
        "_, small_val_dataset = train_test_split(val_dataset, test_size=0.002, random_state=43)\n",
        "val_dataset = prepare_validation_data(small_val_dataset)\n",
        "# val_dataset = prepare_validation_data(val_dataset)\n",
        "\n",
        "# Verify Dataset Initialization\n",
        "if val_dataset is None or len(val_dataset) == 0:\n",
        "    raise ValueError(\"Validation dataset is empty or not initialized.\")\n",
        "\n",
        "# Debug prints to check datasets\n",
        "print(\"Validation dataset size:\", len(val_dataset))\n",
        "\n",
        "# Initialize the Trainer\n",
        "trainer = Trainer(\n",
        "    model=model,  # Initially, set with the base model\n",
        "    args=training_args,\n",
        "    tokenizer=tokenizer\n",
        ")"
      ],
      "metadata": {
        "id": "JPf8M9yxjIS6",
        "colab": {
          "base_uri": "https://localhost:8080/"
        },
        "outputId": "fc100a65-d80c-40c1-d13c-608c2dbc85c7"
      },
      "execution_count": 10,
      "outputs": [
        {
          "output_type": "stream",
          "name": "stdout",
          "text": [
            "Validation dataset size: 60\n"
          ]
        }
      ]
    },
    {
      "cell_type": "code",
      "source": [
        "# Define the number of manual epochs and initialize a list to store checkpoint paths\n",
        "num_manual_epochs = 3  # Set the number of manual epochs\n",
        "all_checkpoint_paths = []\n",
        "epoch_metrics = {}\n",
        "all_metrics_paths = []\n",
        "\n",
        "# Determine the starting epoch based on existing checkpoints\n",
        "starting_epoch = 0\n",
        "for i in range(num_manual_epochs):\n",
        "    checkpoint_directory = f\"{checkpoint_path}/manual_epoch_{i + 1}\"\n",
        "    if not os.path.exists(checkpoint_directory):\n",
        "        break\n",
        "    starting_epoch = i + 1\n",
        "\n",
        "# Looping over the manual epochs starting from the determined epoch\n",
        "for epoch in range(starting_epoch, num_manual_epochs):\n",
        "    # Correctly set checkpoint_directory for the current epoch\n",
        "    checkpoint_directory = f\"{checkpoint_path}/manual_epoch_{epoch + 1}\"\n",
        "    print(f\"Starting manual epoch {epoch + 1}/{num_manual_epochs}\")\n",
        "\n",
        "    # Determine subset index based on the epoch\n",
        "    subset_index = epoch % len(subset_paths)  # Calculate the subset index\n",
        "\n",
        "    # Load and prepare data for the current epoch\n",
        "    subset_path = subset_paths[subset_index]\n",
        "    print(f\"Loading and preparing data for subset {subset_index + 1}\")\n",
        "    current_df = pd.read_csv(subset_path)\n",
        "    # current_train_dataset = prepare_training_data(current_df)\n",
        "\n",
        "    # Splitting 0.5% of data for training\n",
        "    _, small_train_dataset = train_test_split(current_df, test_size=0.002, random_state=42)\n",
        "\n",
        "    # Prepare the subsets for training and validation\n",
        "    current_train_dataset = prepare_training_data(small_train_dataset)\n",
        "\n",
        "    # Verify Dataset Initialization\n",
        "    if current_train_dataset is None or len(current_train_dataset) == 0:\n",
        "        raise ValueError(\"Training dataset is empty or not initialized.\")\n",
        "\n",
        "    # Debug prints to check datasets\n",
        "    print(\"Training dataset size:\", len(current_train_dataset))\n",
        "\n",
        "    # Check if the specific checkpoint for this epoch exists\n",
        "    if os.path.exists(checkpoint_directory):\n",
        "        print(f\"Loading checkpoint for epoch {epoch + 1} from {checkpoint_directory}\")\n",
        "        model = AutoModelForSequenceClassification.from_pretrained(checkpoint_directory)\n",
        "        tokenizer = AutoTokenizer.from_pretrained(checkpoint_directory)\n",
        "        trainer.model = model\n",
        "        trainer.tokenizer = tokenizer\n",
        "    else:\n",
        "        # If no specific checkpoint found, use the base DistilBERT model\n",
        "        print(f\"No checkpoint found for epoch {epoch + 1}, continuing with base model. Checkpoint directory: {checkpoint_directory}\")\n",
        "        model = AutoModelForSequenceClassification.from_pretrained(\"distilbert-base-uncased\", config=config)\n",
        "        tokenizer = AutoTokenizer.from_pretrained(\"distilbert-base-uncased\")\n",
        "\n",
        "    # Update the Trainer's datasets for the current epoch\n",
        "    trainer.train_dataset = current_train_dataset\n",
        "    trainer.eval_dataset = val_dataset\n",
        "\n",
        "    # Train the model for one epoch on the current dataset\n",
        "    print(\"Starting training...\")\n",
        "    trainer.train()\n",
        "\n",
        "    # Optionally, evaluate the model after the epoch\n",
        "    print(\"Evaluating model after training on current subset.\")\n",
        "    results = trainer.evaluate()\n",
        "    print(f\"Evaluation results: {results}\")\n",
        "    # Check if \"predictions\" and \"label_ids\" exist in the results dictionary\n",
        "    if \"predictions\" in results and \"label_ids\" in results:\n",
        "        predictions = np.argmax(results[\"predictions\"], axis=1)\n",
        "        true_labels = results[\"label_ids\"]\n",
        "    else:\n",
        "        predictions = None  # or any other appropriate handling for the absence of predictions\n",
        "        true_labels = None  # or any other appropriate handling for the absence of label_ids\n",
        "\n",
        "    # Check if true_labels is not None before calculating metrics\n",
        "    if true_labels is not None:\n",
        "        # Calculate metrics\n",
        "        epoch_metrics = calculate_evaluation_metrics(predictions, true_labels)\n",
        "    else:\n",
        "        # Handle the case when true_labels is None (e.g., print a message or skip metrics calculation)\n",
        "        print(\"True labels are not available for this evaluation.\")\n",
        "\n",
        "    # After completing the training for the current epoch, save the model\n",
        "    print(f\"Saving model and tokenizer after manual epoch {epoch + 1}, subset {subset_index + 1}\")\n",
        "    trainer.save_model(checkpoint_directory)\n",
        "    tokenizer.save_pretrained(checkpoint_directory)\n",
        "\n",
        "    # Save metrics for this epoch\n",
        "    metrics_path = f\"{logs_path}/metrics_epoch_{epoch + 1}.json\"\n",
        "    with open(metrics_path, 'w') as file:\n",
        "        json.dump(epoch_metrics, file, indent=4)\n",
        "\n",
        "    # Add the path to the metrics file to the list for later use\n",
        "    all_metrics_paths.append(metrics_path)\n",
        "\n",
        "    # Add the checkpoint directory to the list\n",
        "    all_checkpoint_paths.append(checkpoint_directory)\n",
        "\n",
        "    # Free up memory\n",
        "    print(\"Freeing up memory.\")\n",
        "    del current_df, current_train_dataset\n",
        "    gc.collect()\n",
        "    torch.cuda.empty_cache()\n",
        "\n",
        "print(\"Training process complete.\")"
      ],
      "metadata": {
        "id": "5D24LXCiFZyb",
        "colab": {
          "base_uri": "https://localhost:8080/",
          "height": 1000
        },
        "outputId": "51e955c5-09d2-4fe9-c32a-ce39eec9aa59"
      },
      "execution_count": 19,
      "outputs": [
        {
          "output_type": "stream",
          "name": "stdout",
          "text": [
            "Starting manual epoch 1/3\n",
            "Loading and preparing data for subset 1\n",
            "Training dataset size: 180\n",
            "No checkpoint found for epoch 1, continuing with base model. Checkpoint directory: /content/drive/My Drive/ColabData/checkpoints/manual_epoch_1\n"
          ]
        },
        {
          "output_type": "stream",
          "name": "stderr",
          "text": [
            "Some weights of DistilBertForSequenceClassification were not initialized from the model checkpoint at distilbert-base-uncased and are newly initialized: ['classifier.bias', 'classifier.weight', 'pre_classifier.bias', 'pre_classifier.weight']\n",
            "You should probably TRAIN this model on a down-stream task to be able to use it for predictions and inference.\n"
          ]
        },
        {
          "output_type": "stream",
          "name": "stdout",
          "text": [
            "Starting training...\n"
          ]
        },
        {
          "output_type": "display_data",
          "data": {
            "text/plain": [
              "<IPython.core.display.HTML object>"
            ],
            "text/html": [
              "\n",
              "    <div>\n",
              "      \n",
              "      <progress value='6' max='6' style='width:300px; height:20px; vertical-align: middle;'></progress>\n",
              "      [6/6 00:20, Epoch 1/1]\n",
              "    </div>\n",
              "    <table border=\"1\" class=\"dataframe\">\n",
              "  <thead>\n",
              " <tr style=\"text-align: left;\">\n",
              "      <th>Epoch</th>\n",
              "      <th>Training Loss</th>\n",
              "      <th>Validation Loss</th>\n",
              "    </tr>\n",
              "  </thead>\n",
              "  <tbody>\n",
              "    <tr>\n",
              "      <td>1</td>\n",
              "      <td>No log</td>\n",
              "      <td>0.661771</td>\n",
              "    </tr>\n",
              "  </tbody>\n",
              "</table><p>"
            ]
          },
          "metadata": {}
        },
        {
          "output_type": "display_data",
          "data": {
            "text/plain": [
              "<IPython.core.display.HTML object>"
            ],
            "text/html": [
              "\n",
              "    <div>\n",
              "      \n",
              "      <progress value='16' max='8' style='width:300px; height:20px; vertical-align: middle;'></progress>\n",
              "      [8/8 04:53]\n",
              "    </div>\n",
              "    "
            ]
          },
          "metadata": {}
        },
        {
          "output_type": "stream",
          "name": "stderr",
          "text": [
            "Checkpoint destination directory /content/drive/My Drive/ColabData/checkpoints/checkpoint-6 already exists and is non-empty.Saving will proceed but saved results may be invalid.\n"
          ]
        },
        {
          "output_type": "stream",
          "name": "stdout",
          "text": [
            "Evaluating model after training on current subset.\n"
          ]
        },
        {
          "output_type": "display_data",
          "data": {
            "text/plain": [
              "<IPython.core.display.HTML object>"
            ],
            "text/html": [
              "\n",
              "    <div>\n",
              "      \n",
              "      <progress value='16' max='8' style='width:300px; height:20px; vertical-align: middle;'></progress>\n",
              "      [8/8 00:20]\n",
              "    </div>\n",
              "    "
            ]
          },
          "metadata": {}
        },
        {
          "output_type": "stream",
          "name": "stdout",
          "text": [
            "Evaluation results: {'eval_loss': 0.6617708802223206, 'eval_runtime': 1.1926, 'eval_samples_per_second': 50.312, 'eval_steps_per_second': 6.708, 'epoch': 1.0}\n",
            "True labels are not available for this evaluation.\n",
            "Saving model and tokenizer after manual epoch 1, subset 1\n",
            "Freeing up memory.\n",
            "Starting manual epoch 2/3\n",
            "Loading and preparing data for subset 2\n",
            "Training dataset size: 180\n",
            "No checkpoint found for epoch 2, continuing with base model. Checkpoint directory: /content/drive/My Drive/ColabData/checkpoints/manual_epoch_2\n"
          ]
        },
        {
          "output_type": "stream",
          "name": "stderr",
          "text": [
            "Some weights of DistilBertForSequenceClassification were not initialized from the model checkpoint at distilbert-base-uncased and are newly initialized: ['classifier.bias', 'classifier.weight', 'pre_classifier.bias', 'pre_classifier.weight']\n",
            "You should probably TRAIN this model on a down-stream task to be able to use it for predictions and inference.\n"
          ]
        },
        {
          "output_type": "stream",
          "name": "stdout",
          "text": [
            "Starting training...\n"
          ]
        },
        {
          "output_type": "display_data",
          "data": {
            "text/plain": [
              "<IPython.core.display.HTML object>"
            ],
            "text/html": [
              "\n",
              "    <div>\n",
              "      \n",
              "      <progress value='6' max='6' style='width:300px; height:20px; vertical-align: middle;'></progress>\n",
              "      [6/6 00:14, Epoch 1/1]\n",
              "    </div>\n",
              "    <table border=\"1\" class=\"dataframe\">\n",
              "  <thead>\n",
              " <tr style=\"text-align: left;\">\n",
              "      <th>Epoch</th>\n",
              "      <th>Training Loss</th>\n",
              "      <th>Validation Loss</th>\n",
              "    </tr>\n",
              "  </thead>\n",
              "  <tbody>\n",
              "    <tr>\n",
              "      <td>1</td>\n",
              "      <td>No log</td>\n",
              "      <td>0.661771</td>\n",
              "    </tr>\n",
              "  </tbody>\n",
              "</table><p>"
            ]
          },
          "metadata": {}
        },
        {
          "output_type": "stream",
          "name": "stderr",
          "text": [
            "Checkpoint destination directory /content/drive/My Drive/ColabData/checkpoints/checkpoint-6 already exists and is non-empty.Saving will proceed but saved results may be invalid.\n"
          ]
        },
        {
          "output_type": "stream",
          "name": "stdout",
          "text": [
            "Evaluating model after training on current subset.\n"
          ]
        },
        {
          "output_type": "display_data",
          "data": {
            "text/plain": [
              "<IPython.core.display.HTML object>"
            ],
            "text/html": [
              "\n",
              "    <div>\n",
              "      \n",
              "      <progress value='16' max='8' style='width:300px; height:20px; vertical-align: middle;'></progress>\n",
              "      [8/8 00:15]\n",
              "    </div>\n",
              "    "
            ]
          },
          "metadata": {}
        },
        {
          "output_type": "stream",
          "name": "stdout",
          "text": [
            "Evaluation results: {'eval_loss': 0.6617708802223206, 'eval_runtime': 1.0887, 'eval_samples_per_second': 55.112, 'eval_steps_per_second': 7.348, 'epoch': 1.0}\n",
            "True labels are not available for this evaluation.\n",
            "Saving model and tokenizer after manual epoch 2, subset 2\n",
            "Freeing up memory.\n",
            "Starting manual epoch 3/3\n",
            "Loading and preparing data for subset 3\n",
            "Training dataset size: 180\n",
            "No checkpoint found for epoch 3, continuing with base model. Checkpoint directory: /content/drive/My Drive/ColabData/checkpoints/manual_epoch_3\n"
          ]
        },
        {
          "output_type": "stream",
          "name": "stderr",
          "text": [
            "Some weights of DistilBertForSequenceClassification were not initialized from the model checkpoint at distilbert-base-uncased and are newly initialized: ['classifier.bias', 'classifier.weight', 'pre_classifier.bias', 'pre_classifier.weight']\n",
            "You should probably TRAIN this model on a down-stream task to be able to use it for predictions and inference.\n"
          ]
        },
        {
          "output_type": "stream",
          "name": "stdout",
          "text": [
            "Starting training...\n"
          ]
        },
        {
          "output_type": "display_data",
          "data": {
            "text/plain": [
              "<IPython.core.display.HTML object>"
            ],
            "text/html": [
              "\n",
              "    <div>\n",
              "      \n",
              "      <progress value='6' max='6' style='width:300px; height:20px; vertical-align: middle;'></progress>\n",
              "      [6/6 00:12, Epoch 1/1]\n",
              "    </div>\n",
              "    <table border=\"1\" class=\"dataframe\">\n",
              "  <thead>\n",
              " <tr style=\"text-align: left;\">\n",
              "      <th>Epoch</th>\n",
              "      <th>Training Loss</th>\n",
              "      <th>Validation Loss</th>\n",
              "    </tr>\n",
              "  </thead>\n",
              "  <tbody>\n",
              "    <tr>\n",
              "      <td>1</td>\n",
              "      <td>No log</td>\n",
              "      <td>0.661771</td>\n",
              "    </tr>\n",
              "  </tbody>\n",
              "</table><p>"
            ]
          },
          "metadata": {}
        },
        {
          "output_type": "stream",
          "name": "stderr",
          "text": [
            "Checkpoint destination directory /content/drive/My Drive/ColabData/checkpoints/checkpoint-6 already exists and is non-empty.Saving will proceed but saved results may be invalid.\n"
          ]
        },
        {
          "output_type": "stream",
          "name": "stdout",
          "text": [
            "Evaluating model after training on current subset.\n"
          ]
        },
        {
          "output_type": "display_data",
          "data": {
            "text/plain": [
              "<IPython.core.display.HTML object>"
            ],
            "text/html": [
              "\n",
              "    <div>\n",
              "      \n",
              "      <progress value='8' max='8' style='width:300px; height:20px; vertical-align: middle;'></progress>\n",
              "      [8/8 00:00]\n",
              "    </div>\n",
              "    "
            ]
          },
          "metadata": {}
        },
        {
          "output_type": "stream",
          "name": "stdout",
          "text": [
            "Evaluation results: {'eval_loss': 0.6617708802223206, 'eval_runtime': 1.1047, 'eval_samples_per_second': 54.313, 'eval_steps_per_second': 7.242, 'epoch': 1.0}\n",
            "True labels are not available for this evaluation.\n",
            "Saving model and tokenizer after manual epoch 3, subset 3\n",
            "Freeing up memory.\n",
            "Training process complete.\n"
          ]
        }
      ]
    },
    {
      "cell_type": "code",
      "source": [
        "# After completing all epochs, save the final model state\n",
        "final_checkpoint_directory = f\"{trained_model_path}\"\n",
        "print(f\"Saving final model and tokenizer to {final_checkpoint_directory}\")\n",
        "trainer.save_model(final_checkpoint_directory)\n",
        "tokenizer.save_pretrained(final_checkpoint_directory)\n",
        "\n",
        "for i in range(num_manual_epochs):\n",
        "    checkpoint_directory = f\"{checkpoint_path}/manual_epoch_{i + 1}\"\n",
        "    if os.path.exists(checkpoint_directory):\n",
        "        shutil.rmtree(checkpoint_directory)\n",
        "        print(f\"Deleted checkpoint directory: {checkpoint_directory}\")"
      ],
      "metadata": {
        "id": "QJ8QXG9OpQ5W",
        "colab": {
          "base_uri": "https://localhost:8080/"
        },
        "outputId": "dd57d3a1-ddc7-4e14-93e5-fad90a36264d"
      },
      "execution_count": 20,
      "outputs": [
        {
          "output_type": "stream",
          "name": "stdout",
          "text": [
            "Saving final model and tokenizer to /content/drive/My Drive/ColabData/trained_model\n",
            "Deleted checkpoint directory: /content/drive/My Drive/ColabData/checkpoints/manual_epoch_1\n",
            "Deleted checkpoint directory: /content/drive/My Drive/ColabData/checkpoints/manual_epoch_2\n",
            "Deleted checkpoint directory: /content/drive/My Drive/ColabData/checkpoints/manual_epoch_3\n"
          ]
        }
      ]
    },
    {
      "cell_type": "code",
      "source": [
        "# Function to initialize the Trainer for evaluation\n",
        "def initialize_trainer_for_evaluation(model, training_args, eval_dataset):\n",
        "    return Trainer(\n",
        "        model=model,\n",
        "        args=training_args,\n",
        "        eval_dataset=eval_dataset,\n",
        "    )\n",
        "\n",
        "# Function to get the next available file name\n",
        "def get_next_file_name(file_prefix):\n",
        "    index = 0\n",
        "    while True:\n",
        "        file_name = f\"{file_prefix}_{index}.json\"\n",
        "        if not os.path.exists(file_name):\n",
        "            return file_name\n",
        "        index += 1"
      ],
      "metadata": {
        "id": "tluIA7j4bZhb"
      },
      "execution_count": 47,
      "outputs": []
    },
    {
      "cell_type": "code",
      "source": [
        "# Load the final model for evaluation after all epochs\n",
        "final_model_path = all_checkpoint_paths[-1] if all_checkpoint_paths else None\n",
        "\n",
        "if final_model_path:\n",
        "    print(\"Loading final model for evaluation from:\", final_checkpoint_directory)\n",
        "    model = AutoModelForSequenceClassification.from_pretrained(final_checkpoint_directory, config=config)\n",
        "    tokenizer = AutoTokenizer.from_pretrained(final_checkpoint_directory)\n",
        "\n",
        "    # Initialize the Trainer for final evaluation with the validation dataset\n",
        "    eval_trainer = initialize_trainer_for_evaluation(model, training_args, val_dataset)\n",
        "\n",
        "    # Predict on the validation dataset\n",
        "    print(\"Predicting on the validation dataset.\")\n",
        "    predictions = eval_trainer.predict(val_dataset)\n",
        "\n",
        "    # Extract the predicted labels from the predictions\n",
        "    final_predictions = np.argmax(predictions.predictions, axis=1)\n",
        "    final_true_labels = val_dataset.get_labels()  # Get the true labels from the validation dataset\n",
        "\n",
        "    # Calculate final evaluation metrics\n",
        "    final_metrics = calculate_evaluation_metrics(final_predictions, final_true_labels)\n",
        "\n",
        "    # Save final metrics with a sequentially numbered file name\n",
        "    final_metrics_path = get_next_file_name(f\"{logs_path}/final_evaluation_metrics\")\n",
        "    try:\n",
        "        with open(final_metrics_path, 'w') as file:\n",
        "            json.dump(final_metrics, file, indent=4)\n",
        "            print(f\"Final Evaluation Metrics Saved as {final_metrics_path}\")\n",
        "    except Exception as e:\n",
        "        print(f\"An error occurred while saving the final metrics: {str(e)}\")\n",
        "\n",
        "    # Add the path to the final evaluation metrics file to the list for later use\n",
        "    all_metrics_paths.append(final_metrics_path)\n",
        "\n",
        "    # Print the final evaluation metrics\n",
        "    print(\"Final Evaluation Metrics:\")\n",
        "    print(\"Accuracy:\", final_metrics['accuracy'])\n",
        "    print(\"Precision:\", final_metrics['precision'])\n",
        "    print(\"Recall:\", final_metrics['recall'])\n",
        "    print(\"F1 Score:\", final_metrics['F1_score'])\n",
        "    print(\"Confusion Matrix:\")\n",
        "    print(final_metrics['confusion_matrix'])\n",
        "    print(\"ROC AUC:\", final_metrics['ROC_AUC'])\n",
        "\n",
        "    # Print the last saved final metrics\n",
        "    if os.path.exists(final_metrics_path):\n",
        "        print(f\"Last Saved Final Metrics ({final_metrics_path}):\")\n",
        "        with open(final_metrics_path, 'r') as file:\n",
        "            last_saved_metrics = json.load(file)\n",
        "            print(\"Accuracy:\", last_saved_metrics['accuracy'])\n",
        "            print(\"Precision:\", last_saved_metrics['precision'])\n",
        "            print(\"Recall:\", last_saved_metrics['recall'])\n",
        "            print(\"F1 Score:\", last_saved_metrics['F1_score'])\n",
        "            print(\"Confusion Matrix:\")\n",
        "            print(last_saved_metrics['confusion_matrix'])\n",
        "            print(\"ROC AUC:\", last_saved_metrics['ROC_AUC'])\n",
        "else:\n",
        "    print(\"No model checkpoint found for evaluation.\")"
      ],
      "metadata": {
        "id": "gSCuFEkN5Bw4",
        "colab": {
          "base_uri": "https://localhost:8080/",
          "height": 503
        },
        "outputId": "0cb8d43d-8c8e-4515-a344-4d6a7a9dccbc"
      },
      "execution_count": 51,
      "outputs": [
        {
          "output_type": "stream",
          "name": "stdout",
          "text": [
            "Loading final model for evaluation from: /content/drive/My Drive/ColabData/trained_model\n",
            "Predicting on the validation dataset.\n"
          ]
        },
        {
          "output_type": "display_data",
          "data": {
            "text/plain": [
              "<IPython.core.display.HTML object>"
            ],
            "text/html": []
          },
          "metadata": {}
        },
        {
          "output_type": "stream",
          "name": "stdout",
          "text": [
            "Index for filename: /content/drive/My Drive/ColabData/logs/final_evaluation_metrics_0.json\n",
            "Index for filename: /content/drive/My Drive/ColabData/logs/final_evaluation_metrics_1.json\n",
            "Index for filename: /content/drive/My Drive/ColabData/logs/final_evaluation_metrics_2.json\n",
            "Index for filename: /content/drive/My Drive/ColabData/logs/final_evaluation_metrics_3.json\n",
            "Index for filename: /content/drive/My Drive/ColabData/logs/final_evaluation_metrics_4.json\n",
            "Index for filename: /content/drive/My Drive/ColabData/logs/final_evaluation_metrics_5.json\n",
            "Index for filename: /content/drive/My Drive/ColabData/logs/final_evaluation_metrics_6.json\n",
            "Index for filename: /content/drive/My Drive/ColabData/logs/final_evaluation_metrics_7.json\n",
            "Index for filename: /content/drive/My Drive/ColabData/logs/final_evaluation_metrics_8.json\n",
            "Final Evaluation Metrics Saved as /content/drive/My Drive/ColabData/logs/final_evaluation_metrics_9.json\n",
            "Final Evaluation Metrics:\n",
            "Accuracy: 0.7333333333333333\n",
            "Precision: 0.6590909090909091\n",
            "Recall: 0.9666666666666667\n",
            "F1 Score: 0.7837837837837838\n",
            "Confusion Matrix:\n",
            "[[15, 15], [1, 29]]\n",
            "ROC AUC: 0.7333333333333334\n",
            "Last Saved Final Metrics (/content/drive/My Drive/ColabData/logs/final_evaluation_metrics_9.json):\n",
            "Accuracy: 0.7333333333333333\n",
            "Precision: 0.6590909090909091\n",
            "Recall: 0.9666666666666667\n",
            "F1 Score: 0.7837837837837838\n",
            "Confusion Matrix:\n",
            "[[15, 15], [1, 29]]\n",
            "ROC AUC: 0.7333333333333334\n"
          ]
        }
      ]
    }
  ]
}